{
 "cells": [
  {
   "cell_type": "code",
   "execution_count": 8,
   "metadata": {
    "collapsed": true
   },
   "outputs": [],
   "source": [
    "import warnings\n",
    "warnings.filterwarnings('ignore')\n",
    "import pandas as pd\n",
    "import numpy as np\n",
    "import statsmodels.api as sm\n",
    "from bokeh.plotting import *\n",
    "from bokeh.io import output_notebook\n",
    "from bokeh.charts import Scatter, show"
   ]
  },
  {
   "cell_type": "code",
   "execution_count": 2,
   "metadata": {
    "collapsed": false
   },
   "outputs": [
    {
     "data": {
      "text/html": [
       "\n",
       "    <div class=\"bk-root\">\n",
       "        <a href=\"http://bokeh.pydata.org\" target=\"_blank\" class=\"bk-logo bk-logo-small bk-logo-notebook\"></a>\n",
       "        <span id=\"5094fc30-8ac8-4b54-a6e4-1c7877f7a3bf\">Loading BokehJS ...</span>\n",
       "    </div>"
      ]
     },
     "metadata": {},
     "output_type": "display_data"
    },
    {
     "data": {
      "application/javascript": [
       "\n",
       "(function(global) {\n",
       "  function now() {\n",
       "    return new Date();\n",
       "  }\n",
       "\n",
       "  var force = true;\n",
       "\n",
       "  if (typeof (window._bokeh_onload_callbacks) === \"undefined\" || force === true) {\n",
       "    window._bokeh_onload_callbacks = [];\n",
       "    window._bokeh_is_loading = undefined;\n",
       "  }\n",
       "\n",
       "\n",
       "  \n",
       "  if (typeof (window._bokeh_timeout) === \"undefined\" || force === true) {\n",
       "    window._bokeh_timeout = Date.now() + 5000;\n",
       "    window._bokeh_failed_load = false;\n",
       "  }\n",
       "\n",
       "  var NB_LOAD_WARNING = {'data': {'text/html':\n",
       "     \"<div style='background-color: #fdd'>\\n\"+\n",
       "     \"<p>\\n\"+\n",
       "     \"BokehJS does not appear to have successfully loaded. If loading BokehJS from CDN, this \\n\"+\n",
       "     \"may be due to a slow or bad network connection. Possible fixes:\\n\"+\n",
       "     \"</p>\\n\"+\n",
       "     \"<ul>\\n\"+\n",
       "     \"<li>re-rerun `output_notebook()` to attempt to load from CDN again, or</li>\\n\"+\n",
       "     \"<li>use INLINE resources instead, as so:</li>\\n\"+\n",
       "     \"</ul>\\n\"+\n",
       "     \"<code>\\n\"+\n",
       "     \"from bokeh.resources import INLINE\\n\"+\n",
       "     \"output_notebook(resources=INLINE)\\n\"+\n",
       "     \"</code>\\n\"+\n",
       "     \"</div>\"}};\n",
       "\n",
       "  function display_loaded() {\n",
       "    if (window.Bokeh !== undefined) {\n",
       "      document.getElementById(\"5094fc30-8ac8-4b54-a6e4-1c7877f7a3bf\").textContent = \"BokehJS successfully loaded.\";\n",
       "    } else if (Date.now() < window._bokeh_timeout) {\n",
       "      setTimeout(display_loaded, 100)\n",
       "    }\n",
       "  }\n",
       "\n",
       "  function run_callbacks() {\n",
       "    window._bokeh_onload_callbacks.forEach(function(callback) { callback() });\n",
       "    delete window._bokeh_onload_callbacks\n",
       "    console.info(\"Bokeh: all callbacks have finished\");\n",
       "  }\n",
       "\n",
       "  function load_libs(js_urls, callback) {\n",
       "    window._bokeh_onload_callbacks.push(callback);\n",
       "    if (window._bokeh_is_loading > 0) {\n",
       "      console.log(\"Bokeh: BokehJS is being loaded, scheduling callback at\", now());\n",
       "      return null;\n",
       "    }\n",
       "    if (js_urls == null || js_urls.length === 0) {\n",
       "      run_callbacks();\n",
       "      return null;\n",
       "    }\n",
       "    console.log(\"Bokeh: BokehJS not loaded, scheduling load and callback at\", now());\n",
       "    window._bokeh_is_loading = js_urls.length;\n",
       "    for (var i = 0; i < js_urls.length; i++) {\n",
       "      var url = js_urls[i];\n",
       "      var s = document.createElement('script');\n",
       "      s.src = url;\n",
       "      s.async = false;\n",
       "      s.onreadystatechange = s.onload = function() {\n",
       "        window._bokeh_is_loading--;\n",
       "        if (window._bokeh_is_loading === 0) {\n",
       "          console.log(\"Bokeh: all BokehJS libraries loaded\");\n",
       "          run_callbacks()\n",
       "        }\n",
       "      };\n",
       "      s.onerror = function() {\n",
       "        console.warn(\"failed to load library \" + url);\n",
       "      };\n",
       "      console.log(\"Bokeh: injecting script tag for BokehJS library: \", url);\n",
       "      document.getElementsByTagName(\"head\")[0].appendChild(s);\n",
       "    }\n",
       "  };var element = document.getElementById(\"5094fc30-8ac8-4b54-a6e4-1c7877f7a3bf\");\n",
       "  if (element == null) {\n",
       "    console.log(\"Bokeh: ERROR: autoload.js configured with elementid '5094fc30-8ac8-4b54-a6e4-1c7877f7a3bf' but no matching script tag was found. \")\n",
       "    return false;\n",
       "  }\n",
       "\n",
       "  var js_urls = [\"https://cdn.pydata.org/bokeh/release/bokeh-0.12.4.min.js\", \"https://cdn.pydata.org/bokeh/release/bokeh-widgets-0.12.4.min.js\"];\n",
       "\n",
       "  var inline_js = [\n",
       "    function(Bokeh) {\n",
       "      Bokeh.set_log_level(\"info\");\n",
       "    },\n",
       "    \n",
       "    function(Bokeh) {\n",
       "      \n",
       "      document.getElementById(\"5094fc30-8ac8-4b54-a6e4-1c7877f7a3bf\").textContent = \"BokehJS is loading...\";\n",
       "    },\n",
       "    function(Bokeh) {\n",
       "      console.log(\"Bokeh: injecting CSS: https://cdn.pydata.org/bokeh/release/bokeh-0.12.4.min.css\");\n",
       "      Bokeh.embed.inject_css(\"https://cdn.pydata.org/bokeh/release/bokeh-0.12.4.min.css\");\n",
       "      console.log(\"Bokeh: injecting CSS: https://cdn.pydata.org/bokeh/release/bokeh-widgets-0.12.4.min.css\");\n",
       "      Bokeh.embed.inject_css(\"https://cdn.pydata.org/bokeh/release/bokeh-widgets-0.12.4.min.css\");\n",
       "    }\n",
       "  ];\n",
       "\n",
       "  function run_inline_js() {\n",
       "    \n",
       "    if ((window.Bokeh !== undefined) || (force === true)) {\n",
       "      for (var i = 0; i < inline_js.length; i++) {\n",
       "        inline_js[i](window.Bokeh);\n",
       "      }if (force === true) {\n",
       "        display_loaded();\n",
       "      }} else if (Date.now() < window._bokeh_timeout) {\n",
       "      setTimeout(run_inline_js, 100);\n",
       "    } else if (!window._bokeh_failed_load) {\n",
       "      console.log(\"Bokeh: BokehJS failed to load within specified timeout.\");\n",
       "      window._bokeh_failed_load = true;\n",
       "    } else if (force !== true) {\n",
       "      var cell = $(document.getElementById(\"5094fc30-8ac8-4b54-a6e4-1c7877f7a3bf\")).parents('.cell').data().cell;\n",
       "      cell.output_area.append_execute_result(NB_LOAD_WARNING)\n",
       "    }\n",
       "\n",
       "  }\n",
       "\n",
       "  if (window._bokeh_is_loading === 0) {\n",
       "    console.log(\"Bokeh: BokehJS loaded, going straight to plotting\");\n",
       "    run_inline_js();\n",
       "  } else {\n",
       "    load_libs(js_urls, function() {\n",
       "      console.log(\"Bokeh: BokehJS plotting callback run at\", now());\n",
       "      run_inline_js();\n",
       "    });\n",
       "  }\n",
       "}(this));"
      ]
     },
     "metadata": {},
     "output_type": "display_data"
    }
   ],
   "source": [
    "output_notebook()"
   ]
  },
  {
   "cell_type": "code",
   "execution_count": 3,
   "metadata": {
    "collapsed": true
   },
   "outputs": [],
   "source": [
    "df = pd.read_csv('Email-Offer.csv')"
   ]
  },
  {
   "cell_type": "code",
   "execution_count": 4,
   "metadata": {
    "collapsed": false
   },
   "outputs": [
    {
     "data": {
      "text/html": [
       "<div>\n",
       "<table border=\"1\" class=\"dataframe\">\n",
       "  <thead>\n",
       "    <tr style=\"text-align: right;\">\n",
       "      <th></th>\n",
       "      <th>Age</th>\n",
       "      <th>Gender</th>\n",
       "      <th>TookAction</th>\n",
       "    </tr>\n",
       "  </thead>\n",
       "  <tbody>\n",
       "    <tr>\n",
       "      <th>0</th>\n",
       "      <td>38</td>\n",
       "      <td>Female</td>\n",
       "      <td>0</td>\n",
       "    </tr>\n",
       "    <tr>\n",
       "      <th>1</th>\n",
       "      <td>32</td>\n",
       "      <td>Female</td>\n",
       "      <td>0</td>\n",
       "    </tr>\n",
       "    <tr>\n",
       "      <th>2</th>\n",
       "      <td>46</td>\n",
       "      <td>Male</td>\n",
       "      <td>1</td>\n",
       "    </tr>\n",
       "    <tr>\n",
       "      <th>3</th>\n",
       "      <td>34</td>\n",
       "      <td>Male</td>\n",
       "      <td>0</td>\n",
       "    </tr>\n",
       "    <tr>\n",
       "      <th>4</th>\n",
       "      <td>40</td>\n",
       "      <td>Male</td>\n",
       "      <td>0</td>\n",
       "    </tr>\n",
       "  </tbody>\n",
       "</table>\n",
       "</div>"
      ],
      "text/plain": [
       "   Age  Gender  TookAction\n",
       "0   38  Female           0\n",
       "1   32  Female           0\n",
       "2   46    Male           1\n",
       "3   34    Male           0\n",
       "4   40    Male           0"
      ]
     },
     "execution_count": 4,
     "metadata": {},
     "output_type": "execute_result"
    }
   ],
   "source": [
    "df.head()"
   ]
  },
  {
   "cell_type": "code",
   "execution_count": 5,
   "metadata": {
    "collapsed": true
   },
   "outputs": [],
   "source": [
    "dummies = pd.get_dummies(df['Gen']).rename(columns=lambda x: str(x))\n",
    "df = pd.concat([df, dummies], axis=1)"
   ]
  },
  {
   "cell_type": "code",
   "execution_count": 6,
   "metadata": {
    "collapsed": false
   },
   "outputs": [
    {
     "data": {
      "text/html": [
       "<div>\n",
       "<table border=\"1\" class=\"dataframe\">\n",
       "  <thead>\n",
       "    <tr style=\"text-align: right;\">\n",
       "      <th></th>\n",
       "      <th>Age</th>\n",
       "      <th>Gender</th>\n",
       "      <th>TookAction</th>\n",
       "      <th>Female</th>\n",
       "      <th>Male</th>\n",
       "    </tr>\n",
       "  </thead>\n",
       "  <tbody>\n",
       "    <tr>\n",
       "      <th>0</th>\n",
       "      <td>38</td>\n",
       "      <td>Female</td>\n",
       "      <td>0</td>\n",
       "      <td>1</td>\n",
       "      <td>0</td>\n",
       "    </tr>\n",
       "    <tr>\n",
       "      <th>1</th>\n",
       "      <td>32</td>\n",
       "      <td>Female</td>\n",
       "      <td>0</td>\n",
       "      <td>1</td>\n",
       "      <td>0</td>\n",
       "    </tr>\n",
       "    <tr>\n",
       "      <th>2</th>\n",
       "      <td>46</td>\n",
       "      <td>Male</td>\n",
       "      <td>1</td>\n",
       "      <td>0</td>\n",
       "      <td>1</td>\n",
       "    </tr>\n",
       "    <tr>\n",
       "      <th>3</th>\n",
       "      <td>34</td>\n",
       "      <td>Male</td>\n",
       "      <td>0</td>\n",
       "      <td>0</td>\n",
       "      <td>1</td>\n",
       "    </tr>\n",
       "    <tr>\n",
       "      <th>4</th>\n",
       "      <td>40</td>\n",
       "      <td>Male</td>\n",
       "      <td>0</td>\n",
       "      <td>0</td>\n",
       "      <td>1</td>\n",
       "    </tr>\n",
       "  </tbody>\n",
       "</table>\n",
       "</div>"
      ],
      "text/plain": [
       "   Age  Gender  TookAction  Female  Male\n",
       "0   38  Female           0       1     0\n",
       "1   32  Female           0       1     0\n",
       "2   46    Male           1       0     1\n",
       "3   34    Male           0       0     1\n",
       "4   40    Male           0       0     1"
      ]
     },
     "execution_count": 6,
     "metadata": {},
     "output_type": "execute_result"
    }
   ],
   "source": [
    "df.head()"
   ]
  },
  {
   "cell_type": "code",
   "execution_count": 10,
   "metadata": {
    "collapsed": false
   },
   "outputs": [
    {
     "data": {
      "text/html": [
       "\n",
       "\n",
       "    <div class=\"bk-root\">\n",
       "        <div class=\"bk-plotdiv\" id=\"9bd856dc-ec9b-4545-86f7-ef0decb28b84\"></div>\n",
       "    </div>\n",
       "<script type=\"text/javascript\">\n",
       "  \n",
       "  (function(global) {\n",
       "    function now() {\n",
       "      return new Date();\n",
       "    }\n",
       "  \n",
       "    var force = false;\n",
       "  \n",
       "    if (typeof (window._bokeh_onload_callbacks) === \"undefined\" || force === true) {\n",
       "      window._bokeh_onload_callbacks = [];\n",
       "      window._bokeh_is_loading = undefined;\n",
       "    }\n",
       "  \n",
       "  \n",
       "    \n",
       "    if (typeof (window._bokeh_timeout) === \"undefined\" || force === true) {\n",
       "      window._bokeh_timeout = Date.now() + 0;\n",
       "      window._bokeh_failed_load = false;\n",
       "    }\n",
       "  \n",
       "    var NB_LOAD_WARNING = {'data': {'text/html':\n",
       "       \"<div style='background-color: #fdd'>\\n\"+\n",
       "       \"<p>\\n\"+\n",
       "       \"BokehJS does not appear to have successfully loaded. If loading BokehJS from CDN, this \\n\"+\n",
       "       \"may be due to a slow or bad network connection. Possible fixes:\\n\"+\n",
       "       \"</p>\\n\"+\n",
       "       \"<ul>\\n\"+\n",
       "       \"<li>re-rerun `output_notebook()` to attempt to load from CDN again, or</li>\\n\"+\n",
       "       \"<li>use INLINE resources instead, as so:</li>\\n\"+\n",
       "       \"</ul>\\n\"+\n",
       "       \"<code>\\n\"+\n",
       "       \"from bokeh.resources import INLINE\\n\"+\n",
       "       \"output_notebook(resources=INLINE)\\n\"+\n",
       "       \"</code>\\n\"+\n",
       "       \"</div>\"}};\n",
       "  \n",
       "    function display_loaded() {\n",
       "      if (window.Bokeh !== undefined) {\n",
       "        document.getElementById(\"9bd856dc-ec9b-4545-86f7-ef0decb28b84\").textContent = \"BokehJS successfully loaded.\";\n",
       "      } else if (Date.now() < window._bokeh_timeout) {\n",
       "        setTimeout(display_loaded, 100)\n",
       "      }\n",
       "    }\n",
       "  \n",
       "    function run_callbacks() {\n",
       "      window._bokeh_onload_callbacks.forEach(function(callback) { callback() });\n",
       "      delete window._bokeh_onload_callbacks\n",
       "      console.info(\"Bokeh: all callbacks have finished\");\n",
       "    }\n",
       "  \n",
       "    function load_libs(js_urls, callback) {\n",
       "      window._bokeh_onload_callbacks.push(callback);\n",
       "      if (window._bokeh_is_loading > 0) {\n",
       "        console.log(\"Bokeh: BokehJS is being loaded, scheduling callback at\", now());\n",
       "        return null;\n",
       "      }\n",
       "      if (js_urls == null || js_urls.length === 0) {\n",
       "        run_callbacks();\n",
       "        return null;\n",
       "      }\n",
       "      console.log(\"Bokeh: BokehJS not loaded, scheduling load and callback at\", now());\n",
       "      window._bokeh_is_loading = js_urls.length;\n",
       "      for (var i = 0; i < js_urls.length; i++) {\n",
       "        var url = js_urls[i];\n",
       "        var s = document.createElement('script');\n",
       "        s.src = url;\n",
       "        s.async = false;\n",
       "        s.onreadystatechange = s.onload = function() {\n",
       "          window._bokeh_is_loading--;\n",
       "          if (window._bokeh_is_loading === 0) {\n",
       "            console.log(\"Bokeh: all BokehJS libraries loaded\");\n",
       "            run_callbacks()\n",
       "          }\n",
       "        };\n",
       "        s.onerror = function() {\n",
       "          console.warn(\"failed to load library \" + url);\n",
       "        };\n",
       "        console.log(\"Bokeh: injecting script tag for BokehJS library: \", url);\n",
       "        document.getElementsByTagName(\"head\")[0].appendChild(s);\n",
       "      }\n",
       "    };var element = document.getElementById(\"9bd856dc-ec9b-4545-86f7-ef0decb28b84\");\n",
       "    if (element == null) {\n",
       "      console.log(\"Bokeh: ERROR: autoload.js configured with elementid '9bd856dc-ec9b-4545-86f7-ef0decb28b84' but no matching script tag was found. \")\n",
       "      return false;\n",
       "    }\n",
       "  \n",
       "    var js_urls = [];\n",
       "  \n",
       "    var inline_js = [\n",
       "      function(Bokeh) {\n",
       "        (function() {\n",
       "          var fn = function() {\n",
       "            var docs_json = {\"d7f5eaf7-ffec-4fbc-b33f-e2db4bf22107\":{\"roots\":{\"references\":[{\"attributes\":{\"line_color\":{\"value\":\"#1f77b4\"},\"line_width\":{\"value\":2},\"x\":{\"field\":\"x\"},\"y\":{\"field\":\"y\"}},\"id\":\"b5f66ab8-0640-45b9-bc12-f657754fa658\",\"type\":\"Line\"},{\"attributes\":{},\"id\":\"058719d3-5ffc-4b15-8fbd-0fd6b703e105\",\"type\":\"BasicTickFormatter\"},{\"attributes\":{\"formatter\":{\"id\":\"01ea745e-c86f-48f5-a94e-1960b05a5e6b\",\"type\":\"BasicTickFormatter\"},\"plot\":{\"id\":\"68f279b0-cd31-4b11-a00a-12185ba41505\",\"subtype\":\"Figure\",\"type\":\"Plot\"},\"ticker\":{\"id\":\"3bbbfea5-abfe-4545-bd84-27e215b55835\",\"type\":\"BasicTicker\"}},\"id\":\"8e901816-73e8-4fb4-8de6-19ce378c6033\",\"type\":\"LinearAxis\"},{\"attributes\":{\"callback\":null,\"column_names\":[\"y\",\"x\"],\"data\":{\"x\":[26,27,28,29,30,31,32,33,34,35,36,37,38,39,40,41,42,43,44,45,46,47,48,49,50],\"y\":{\"__ndarray__\":\"kCYDzFk2z78Yn762OFjIv5gXeqEXesG/MCBrGO03tb8ARYi3q+6dv8D2m/JcApk/sAwwZ9n8sz/YjdzIjdzAP1AVId6uusc/yJxl88+Yzj8kElWEeLvSP+RV9w6JKtY/nJmZmZmZ2T9c3TskqgjdP44Qb1fdO+A/bjLAnGXz4T9OVBHi7arjPyp2Yid2YuU/CpizbP4Z5z/quQSyhtHoP8bbVfcOieo/pv2mPJdA7D+GH/iBH/jtP2ZBScenr+8/ozFNBpiz8D8=\",\"dtype\":\"float64\",\"shape\":[25]}}},\"id\":\"9339e8aa-0135-41cd-b25b-7e0f813c92a8\",\"type\":\"ColumnDataSource\"},{\"attributes\":{},\"id\":\"01ea745e-c86f-48f5-a94e-1960b05a5e6b\",\"type\":\"BasicTickFormatter\"},{\"attributes\":{\"data_source\":{\"id\":\"af729fb7-d69c-4f69-8e2e-df03a1b131c8\",\"type\":\"ColumnDataSource\"},\"glyph\":{\"id\":\"8ff3c11b-e186-40c0-8121-38aeb9c99eea\",\"type\":\"Circle\"},\"hover_glyph\":null,\"nonselection_glyph\":{\"id\":\"4d335b3f-aa8e-4dfa-9b95-3e66e8a734b2\",\"type\":\"Circle\"},\"selection_glyph\":null},\"id\":\"3b1850a1-2182-4609-a7b9-ee8d74fede74\",\"type\":\"GlyphRenderer\"},{\"attributes\":{\"callback\":null,\"column_names\":[\"y\",\"x\"],\"data\":{\"x\":[38,32,46,34,40,37,43,38,27,42,49,48,45,27,50,40,41,40,39,33,31,36,29,47,27,28,50,48,47,44,33,30,38,30,36,39,41,35,42,50,27,39,28,46,30,33,45,38,29,26,34,26,31,50,32,36,47,35,31,37,35,44,48,29,39,45,37,28,35,47,41,28,42,29,26,30,32,44,43,42,46,44,43,49,37,49,45,41,40,33,43,26,46,48,34,31,49,36,32,34],\"y\":[0,0,1,0,0,0,1,1,0,0,1,1,1,0,1,0,0,0,0,0,0,0,0,1,0,0,1,1,1,1,0,0,0,0,0,0,0,0,1,1,0,1,0,1,0,0,1,0,0,0,0,0,0,1,0,0,1,0,0,1,0,1,1,0,0,1,0,0,0,1,1,0,0,0,0,0,0,1,1,1,1,1,0,1,0,1,1,1,1,0,1,0,1,1,1,0,1,0,0,0]}},\"id\":\"af729fb7-d69c-4f69-8e2e-df03a1b131c8\",\"type\":\"ColumnDataSource\"},{\"attributes\":{\"fill_alpha\":{\"value\":0.1},\"fill_color\":{\"value\":\"#1f77b4\"},\"line_alpha\":{\"value\":0.1},\"line_color\":{\"value\":\"#1f77b4\"},\"size\":{\"units\":\"screen\",\"value\":10},\"x\":{\"field\":\"x\"},\"y\":{\"field\":\"y\"}},\"id\":\"4d335b3f-aa8e-4dfa-9b95-3e66e8a734b2\",\"type\":\"Circle\"},{\"attributes\":{},\"id\":\"3bbbfea5-abfe-4545-bd84-27e215b55835\",\"type\":\"BasicTicker\"},{\"attributes\":{\"dimension\":1,\"plot\":{\"id\":\"68f279b0-cd31-4b11-a00a-12185ba41505\",\"subtype\":\"Figure\",\"type\":\"Plot\"},\"ticker\":{\"id\":\"3bbbfea5-abfe-4545-bd84-27e215b55835\",\"type\":\"BasicTicker\"}},\"id\":\"11c588ee-4afd-4bb3-9a55-7466c4a69702\",\"type\":\"Grid\"},{\"attributes\":{\"active_drag\":\"auto\",\"active_scroll\":\"auto\",\"active_tap\":\"auto\",\"tools\":[{\"id\":\"48fd243c-668b-4d3f-af67-54c34d35575b\",\"type\":\"PanTool\"},{\"id\":\"e94bd454-0018-45c1-8e57-f68931e6ca72\",\"type\":\"WheelZoomTool\"},{\"id\":\"b20dfd4a-a34e-4d96-abe0-1bda0f4a9779\",\"type\":\"BoxZoomTool\"},{\"id\":\"1d671f97-3556-49ce-b649-7e8e2a3b8076\",\"type\":\"SaveTool\"},{\"id\":\"f936e610-ce60-42e5-9c5d-7565de86c6d0\",\"type\":\"ResetTool\"},{\"id\":\"0d432dca-8ea6-424f-b2a9-b4de30071233\",\"type\":\"HelpTool\"}]},\"id\":\"15b409de-bd0d-48e0-be45-974ed2b3dcae\",\"type\":\"Toolbar\"},{\"attributes\":{\"plot\":{\"id\":\"68f279b0-cd31-4b11-a00a-12185ba41505\",\"subtype\":\"Figure\",\"type\":\"Plot\"}},\"id\":\"e94bd454-0018-45c1-8e57-f68931e6ca72\",\"type\":\"WheelZoomTool\"},{\"attributes\":{\"plot\":{\"id\":\"68f279b0-cd31-4b11-a00a-12185ba41505\",\"subtype\":\"Figure\",\"type\":\"Plot\"},\"ticker\":{\"id\":\"814cbccc-4ebd-4635-808a-abd0915730e9\",\"type\":\"BasicTicker\"}},\"id\":\"da37ec02-5f24-453c-a3bf-bc7c458cb677\",\"type\":\"Grid\"},{\"attributes\":{\"callback\":null},\"id\":\"7bca92bf-b81a-4c58-b9eb-8095f3ffc37a\",\"type\":\"DataRange1d\"},{\"attributes\":{\"plot\":{\"id\":\"68f279b0-cd31-4b11-a00a-12185ba41505\",\"subtype\":\"Figure\",\"type\":\"Plot\"}},\"id\":\"1d671f97-3556-49ce-b649-7e8e2a3b8076\",\"type\":\"SaveTool\"},{\"attributes\":{\"callback\":null},\"id\":\"fed8fd92-021b-4a26-a667-b545d451053e\",\"type\":\"DataRange1d\"},{\"attributes\":{\"fill_color\":{\"value\":\"blue\"},\"line_color\":{\"value\":\"#1f77b4\"},\"size\":{\"units\":\"screen\",\"value\":10},\"x\":{\"field\":\"x\"},\"y\":{\"field\":\"y\"}},\"id\":\"8ff3c11b-e186-40c0-8121-38aeb9c99eea\",\"type\":\"Circle\"},{\"attributes\":{\"line_alpha\":{\"value\":0.1},\"line_color\":{\"value\":\"#1f77b4\"},\"line_width\":{\"value\":2},\"x\":{\"field\":\"x\"},\"y\":{\"field\":\"y\"}},\"id\":\"037d575d-aec6-4760-a631-e052e7a0bf22\",\"type\":\"Line\"},{\"attributes\":{\"formatter\":{\"id\":\"058719d3-5ffc-4b15-8fbd-0fd6b703e105\",\"type\":\"BasicTickFormatter\"},\"plot\":{\"id\":\"68f279b0-cd31-4b11-a00a-12185ba41505\",\"subtype\":\"Figure\",\"type\":\"Plot\"},\"ticker\":{\"id\":\"814cbccc-4ebd-4635-808a-abd0915730e9\",\"type\":\"BasicTicker\"}},\"id\":\"e1b28a65-9905-495e-b5c3-2bea45ec1b89\",\"type\":\"LinearAxis\"},{\"attributes\":{\"data_source\":{\"id\":\"9339e8aa-0135-41cd-b25b-7e0f813c92a8\",\"type\":\"ColumnDataSource\"},\"glyph\":{\"id\":\"b5f66ab8-0640-45b9-bc12-f657754fa658\",\"type\":\"Line\"},\"hover_glyph\":null,\"nonselection_glyph\":{\"id\":\"037d575d-aec6-4760-a631-e052e7a0bf22\",\"type\":\"Line\"},\"selection_glyph\":null},\"id\":\"d9b18eca-a256-407a-92cf-ec1d0e343e3f\",\"type\":\"GlyphRenderer\"},{\"attributes\":{\"plot\":{\"id\":\"68f279b0-cd31-4b11-a00a-12185ba41505\",\"subtype\":\"Figure\",\"type\":\"Plot\"}},\"id\":\"0d432dca-8ea6-424f-b2a9-b4de30071233\",\"type\":\"HelpTool\"},{\"attributes\":{\"plot\":{\"id\":\"68f279b0-cd31-4b11-a00a-12185ba41505\",\"subtype\":\"Figure\",\"type\":\"Plot\"}},\"id\":\"48fd243c-668b-4d3f-af67-54c34d35575b\",\"type\":\"PanTool\"},{\"attributes\":{},\"id\":\"814cbccc-4ebd-4635-808a-abd0915730e9\",\"type\":\"BasicTicker\"},{\"attributes\":{\"plot\":{\"id\":\"68f279b0-cd31-4b11-a00a-12185ba41505\",\"subtype\":\"Figure\",\"type\":\"Plot\"}},\"id\":\"f936e610-ce60-42e5-9c5d-7565de86c6d0\",\"type\":\"ResetTool\"},{\"attributes\":{\"below\":[{\"id\":\"e1b28a65-9905-495e-b5c3-2bea45ec1b89\",\"type\":\"LinearAxis\"}],\"left\":[{\"id\":\"8e901816-73e8-4fb4-8de6-19ce378c6033\",\"type\":\"LinearAxis\"}],\"renderers\":[{\"id\":\"e1b28a65-9905-495e-b5c3-2bea45ec1b89\",\"type\":\"LinearAxis\"},{\"id\":\"da37ec02-5f24-453c-a3bf-bc7c458cb677\",\"type\":\"Grid\"},{\"id\":\"8e901816-73e8-4fb4-8de6-19ce378c6033\",\"type\":\"LinearAxis\"},{\"id\":\"11c588ee-4afd-4bb3-9a55-7466c4a69702\",\"type\":\"Grid\"},{\"id\":\"9e7e064c-ea56-458d-8084-9931fdcf82da\",\"type\":\"BoxAnnotation\"},{\"id\":\"d9b18eca-a256-407a-92cf-ec1d0e343e3f\",\"type\":\"GlyphRenderer\"},{\"id\":\"3b1850a1-2182-4609-a7b9-ee8d74fede74\",\"type\":\"GlyphRenderer\"}],\"title\":{\"id\":\"0c830ad5-9d8e-479d-a882-9a91b5d7faf9\",\"type\":\"Title\"},\"tool_events\":{\"id\":\"9380c03a-5add-41b7-b7f9-2f5ea7fbe5b1\",\"type\":\"ToolEvents\"},\"toolbar\":{\"id\":\"15b409de-bd0d-48e0-be45-974ed2b3dcae\",\"type\":\"Toolbar\"},\"x_range\":{\"id\":\"fed8fd92-021b-4a26-a667-b545d451053e\",\"type\":\"DataRange1d\"},\"y_range\":{\"id\":\"7bca92bf-b81a-4c58-b9eb-8095f3ffc37a\",\"type\":\"DataRange1d\"}},\"id\":\"68f279b0-cd31-4b11-a00a-12185ba41505\",\"subtype\":\"Figure\",\"type\":\"Plot\"},{\"attributes\":{\"overlay\":{\"id\":\"9e7e064c-ea56-458d-8084-9931fdcf82da\",\"type\":\"BoxAnnotation\"},\"plot\":{\"id\":\"68f279b0-cd31-4b11-a00a-12185ba41505\",\"subtype\":\"Figure\",\"type\":\"Plot\"}},\"id\":\"b20dfd4a-a34e-4d96-abe0-1bda0f4a9779\",\"type\":\"BoxZoomTool\"},{\"attributes\":{\"plot\":null,\"text\":\"\"},\"id\":\"0c830ad5-9d8e-479d-a882-9a91b5d7faf9\",\"type\":\"Title\"},{\"attributes\":{},\"id\":\"9380c03a-5add-41b7-b7f9-2f5ea7fbe5b1\",\"type\":\"ToolEvents\"},{\"attributes\":{\"bottom_units\":\"screen\",\"fill_alpha\":{\"value\":0.5},\"fill_color\":{\"value\":\"lightgrey\"},\"left_units\":\"screen\",\"level\":\"overlay\",\"line_alpha\":{\"value\":1.0},\"line_color\":{\"value\":\"black\"},\"line_dash\":[4,4],\"line_width\":{\"value\":2},\"plot\":null,\"render_mode\":\"css\",\"right_units\":\"screen\",\"top_units\":\"screen\"},\"id\":\"9e7e064c-ea56-458d-8084-9931fdcf82da\",\"type\":\"BoxAnnotation\"}],\"root_ids\":[\"68f279b0-cd31-4b11-a00a-12185ba41505\"]},\"title\":\"Bokeh Application\",\"version\":\"0.12.4\"}};\n",
       "            var render_items = [{\"docid\":\"d7f5eaf7-ffec-4fbc-b33f-e2db4bf22107\",\"elementid\":\"9bd856dc-ec9b-4545-86f7-ef0decb28b84\",\"modelid\":\"68f279b0-cd31-4b11-a00a-12185ba41505\"}];\n",
       "            \n",
       "            Bokeh.embed.embed_items(docs_json, render_items);\n",
       "          };\n",
       "          if (document.readyState != \"loading\") fn();\n",
       "          else document.addEventListener(\"DOMContentLoaded\", fn);\n",
       "        })();\n",
       "      },\n",
       "      function(Bokeh) {\n",
       "      }\n",
       "    ];\n",
       "  \n",
       "    function run_inline_js() {\n",
       "      \n",
       "      if ((window.Bokeh !== undefined) || (force === true)) {\n",
       "        for (var i = 0; i < inline_js.length; i++) {\n",
       "          inline_js[i](window.Bokeh);\n",
       "        }if (force === true) {\n",
       "          display_loaded();\n",
       "        }} else if (Date.now() < window._bokeh_timeout) {\n",
       "        setTimeout(run_inline_js, 100);\n",
       "      } else if (!window._bokeh_failed_load) {\n",
       "        console.log(\"Bokeh: BokehJS failed to load within specified timeout.\");\n",
       "        window._bokeh_failed_load = true;\n",
       "      } else if (force !== true) {\n",
       "        var cell = $(document.getElementById(\"9bd856dc-ec9b-4545-86f7-ef0decb28b84\")).parents('.cell').data().cell;\n",
       "        cell.output_area.append_execute_result(NB_LOAD_WARNING)\n",
       "      }\n",
       "  \n",
       "    }\n",
       "  \n",
       "    if (window._bokeh_is_loading === 0) {\n",
       "      console.log(\"Bokeh: BokehJS loaded, going straight to plotting\");\n",
       "      run_inline_js();\n",
       "    } else {\n",
       "      load_libs(js_urls, function() {\n",
       "        console.log(\"Bokeh: BokehJS plotting callback run at\", now());\n",
       "        run_inline_js();\n",
       "      });\n",
       "    }\n",
       "  }(this));\n",
       "</script>"
      ]
     },
     "metadata": {},
     "output_type": "display_data"
    }
   ],
   "source": [
    "p = figure()\n",
    "p.line(np.unique(df['Age']), np.poly1d(np.polyfit(df['Age'], df['TookAction'], 1))(np.unique(df['Age'])), line_width=2)\n",
    "p.scatter(df['Age'], df['TookAction'], fill_color='blue', size=10)\n",
    "show(p)"
   ]
  },
  {
   "cell_type": "code",
   "execution_count": null,
   "metadata": {
    "collapsed": true
   },
   "outputs": [],
   "source": [
    "profit = df['Profit']"
   ]
  },
  {
   "cell_type": "code",
   "execution_count": null,
   "metadata": {
    "collapsed": false
   },
   "outputs": [],
   "source": [
    "X3 = df[['R&D Spend', 'Marketing Spend']]\n",
    "X3 = sm.add_constant(X3)\n",
    "model3 = sm.OLS(profit, X3)\n",
    "results3 = model3.fit()\n",
    "print(results3.summary())"
   ]
  },
  {
   "cell_type": "code",
   "execution_count": null,
   "metadata": {
    "collapsed": true
   },
   "outputs": [],
   "source": [
    "# Now we calculate the predicted values based on the independent variable YearsExperience\n",
    "y_hat3 = results3.predict(X3)"
   ]
  },
  {
   "cell_type": "code",
   "execution_count": null,
   "metadata": {
    "collapsed": false
   },
   "outputs": [],
   "source": [
    "p = figure()\n",
    "p.scatter(df['Marketing Spend'], df['Profit'], fill_color='blue', size=10)\n",
    "p.scatter(df['Marketing Spend'], y_hat3, fill_color='red', marker='triangle', size=10)\n",
    "p.left[0].formatter.use_scientific = False\n",
    "p.below[0].formatter.use_scientific = False\n",
    "show(p)"
   ]
  },
  {
   "cell_type": "code",
   "execution_count": null,
   "metadata": {
    "collapsed": true
   },
   "outputs": [],
   "source": []
  }
 ],
 "metadata": {
  "kernelspec": {
   "display_name": "Python 2",
   "language": "python",
   "name": "python2"
  },
  "language_info": {
   "codemirror_mode": {
    "name": "ipython",
    "version": 2
   },
   "file_extension": ".py",
   "mimetype": "text/x-python",
   "name": "python",
   "nbconvert_exporter": "python",
   "pygments_lexer": "ipython2",
   "version": "2.7.13"
  }
 },
 "nbformat": 4,
 "nbformat_minor": 0
}
