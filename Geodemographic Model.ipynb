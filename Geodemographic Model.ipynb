{
 "cells": [
  {
   "cell_type": "code",
   "execution_count": 1,
   "metadata": {
    "collapsed": true
   },
   "outputs": [],
   "source": [
    "import warnings\n",
    "warnings.filterwarnings('ignore')\n",
    "import pandas as pd\n",
    "import numpy as np\n",
    "import statsmodels.api as sm\n",
    "from bokeh.plotting import *\n",
    "from bokeh.io import output_notebook\n",
    "from bokeh.charts import Scatter, show\n",
    "import matplotlib.pyplot as plt\n",
    "%matplotlib inline"
   ]
  },
  {
   "cell_type": "code",
   "execution_count": 2,
   "metadata": {
    "collapsed": false
   },
   "outputs": [
    {
     "data": {
      "text/html": [
       "\n",
       "    <div class=\"bk-root\">\n",
       "        <a href=\"http://bokeh.pydata.org\" target=\"_blank\" class=\"bk-logo bk-logo-small bk-logo-notebook\"></a>\n",
       "        <span id=\"2cd5d7b7-a559-4d20-8657-06805884d0ee\">Loading BokehJS ...</span>\n",
       "    </div>"
      ]
     },
     "metadata": {},
     "output_type": "display_data"
    },
    {
     "data": {
      "application/javascript": [
       "\n",
       "(function(global) {\n",
       "  function now() {\n",
       "    return new Date();\n",
       "  }\n",
       "\n",
       "  var force = true;\n",
       "\n",
       "  if (typeof (window._bokeh_onload_callbacks) === \"undefined\" || force === true) {\n",
       "    window._bokeh_onload_callbacks = [];\n",
       "    window._bokeh_is_loading = undefined;\n",
       "  }\n",
       "\n",
       "\n",
       "  \n",
       "  if (typeof (window._bokeh_timeout) === \"undefined\" || force === true) {\n",
       "    window._bokeh_timeout = Date.now() + 5000;\n",
       "    window._bokeh_failed_load = false;\n",
       "  }\n",
       "\n",
       "  var NB_LOAD_WARNING = {'data': {'text/html':\n",
       "     \"<div style='background-color: #fdd'>\\n\"+\n",
       "     \"<p>\\n\"+\n",
       "     \"BokehJS does not appear to have successfully loaded. If loading BokehJS from CDN, this \\n\"+\n",
       "     \"may be due to a slow or bad network connection. Possible fixes:\\n\"+\n",
       "     \"</p>\\n\"+\n",
       "     \"<ul>\\n\"+\n",
       "     \"<li>re-rerun `output_notebook()` to attempt to load from CDN again, or</li>\\n\"+\n",
       "     \"<li>use INLINE resources instead, as so:</li>\\n\"+\n",
       "     \"</ul>\\n\"+\n",
       "     \"<code>\\n\"+\n",
       "     \"from bokeh.resources import INLINE\\n\"+\n",
       "     \"output_notebook(resources=INLINE)\\n\"+\n",
       "     \"</code>\\n\"+\n",
       "     \"</div>\"}};\n",
       "\n",
       "  function display_loaded() {\n",
       "    if (window.Bokeh !== undefined) {\n",
       "      document.getElementById(\"2cd5d7b7-a559-4d20-8657-06805884d0ee\").textContent = \"BokehJS successfully loaded.\";\n",
       "    } else if (Date.now() < window._bokeh_timeout) {\n",
       "      setTimeout(display_loaded, 100)\n",
       "    }\n",
       "  }\n",
       "\n",
       "  function run_callbacks() {\n",
       "    window._bokeh_onload_callbacks.forEach(function(callback) { callback() });\n",
       "    delete window._bokeh_onload_callbacks\n",
       "    console.info(\"Bokeh: all callbacks have finished\");\n",
       "  }\n",
       "\n",
       "  function load_libs(js_urls, callback) {\n",
       "    window._bokeh_onload_callbacks.push(callback);\n",
       "    if (window._bokeh_is_loading > 0) {\n",
       "      console.log(\"Bokeh: BokehJS is being loaded, scheduling callback at\", now());\n",
       "      return null;\n",
       "    }\n",
       "    if (js_urls == null || js_urls.length === 0) {\n",
       "      run_callbacks();\n",
       "      return null;\n",
       "    }\n",
       "    console.log(\"Bokeh: BokehJS not loaded, scheduling load and callback at\", now());\n",
       "    window._bokeh_is_loading = js_urls.length;\n",
       "    for (var i = 0; i < js_urls.length; i++) {\n",
       "      var url = js_urls[i];\n",
       "      var s = document.createElement('script');\n",
       "      s.src = url;\n",
       "      s.async = false;\n",
       "      s.onreadystatechange = s.onload = function() {\n",
       "        window._bokeh_is_loading--;\n",
       "        if (window._bokeh_is_loading === 0) {\n",
       "          console.log(\"Bokeh: all BokehJS libraries loaded\");\n",
       "          run_callbacks()\n",
       "        }\n",
       "      };\n",
       "      s.onerror = function() {\n",
       "        console.warn(\"failed to load library \" + url);\n",
       "      };\n",
       "      console.log(\"Bokeh: injecting script tag for BokehJS library: \", url);\n",
       "      document.getElementsByTagName(\"head\")[0].appendChild(s);\n",
       "    }\n",
       "  };var element = document.getElementById(\"2cd5d7b7-a559-4d20-8657-06805884d0ee\");\n",
       "  if (element == null) {\n",
       "    console.log(\"Bokeh: ERROR: autoload.js configured with elementid '2cd5d7b7-a559-4d20-8657-06805884d0ee' but no matching script tag was found. \")\n",
       "    return false;\n",
       "  }\n",
       "\n",
       "  var js_urls = [\"https://cdn.pydata.org/bokeh/release/bokeh-0.12.4.min.js\", \"https://cdn.pydata.org/bokeh/release/bokeh-widgets-0.12.4.min.js\"];\n",
       "\n",
       "  var inline_js = [\n",
       "    function(Bokeh) {\n",
       "      Bokeh.set_log_level(\"info\");\n",
       "    },\n",
       "    \n",
       "    function(Bokeh) {\n",
       "      \n",
       "      document.getElementById(\"2cd5d7b7-a559-4d20-8657-06805884d0ee\").textContent = \"BokehJS is loading...\";\n",
       "    },\n",
       "    function(Bokeh) {\n",
       "      console.log(\"Bokeh: injecting CSS: https://cdn.pydata.org/bokeh/release/bokeh-0.12.4.min.css\");\n",
       "      Bokeh.embed.inject_css(\"https://cdn.pydata.org/bokeh/release/bokeh-0.12.4.min.css\");\n",
       "      console.log(\"Bokeh: injecting CSS: https://cdn.pydata.org/bokeh/release/bokeh-widgets-0.12.4.min.css\");\n",
       "      Bokeh.embed.inject_css(\"https://cdn.pydata.org/bokeh/release/bokeh-widgets-0.12.4.min.css\");\n",
       "    }\n",
       "  ];\n",
       "\n",
       "  function run_inline_js() {\n",
       "    \n",
       "    if ((window.Bokeh !== undefined) || (force === true)) {\n",
       "      for (var i = 0; i < inline_js.length; i++) {\n",
       "        inline_js[i](window.Bokeh);\n",
       "      }if (force === true) {\n",
       "        display_loaded();\n",
       "      }} else if (Date.now() < window._bokeh_timeout) {\n",
       "      setTimeout(run_inline_js, 100);\n",
       "    } else if (!window._bokeh_failed_load) {\n",
       "      console.log(\"Bokeh: BokehJS failed to load within specified timeout.\");\n",
       "      window._bokeh_failed_load = true;\n",
       "    } else if (force !== true) {\n",
       "      var cell = $(document.getElementById(\"2cd5d7b7-a559-4d20-8657-06805884d0ee\")).parents('.cell').data().cell;\n",
       "      cell.output_area.append_execute_result(NB_LOAD_WARNING)\n",
       "    }\n",
       "\n",
       "  }\n",
       "\n",
       "  if (window._bokeh_is_loading === 0) {\n",
       "    console.log(\"Bokeh: BokehJS loaded, going straight to plotting\");\n",
       "    run_inline_js();\n",
       "  } else {\n",
       "    load_libs(js_urls, function() {\n",
       "      console.log(\"Bokeh: BokehJS plotting callback run at\", now());\n",
       "      run_inline_js();\n",
       "    });\n",
       "  }\n",
       "}(this));"
      ]
     },
     "metadata": {},
     "output_type": "display_data"
    }
   ],
   "source": [
    "output_notebook()"
   ]
  },
  {
   "cell_type": "code",
   "execution_count": 3,
   "metadata": {
    "collapsed": true
   },
   "outputs": [],
   "source": [
    "train = pd.read_csv('Churn-Modelling.csv')"
   ]
  },
  {
   "cell_type": "code",
   "execution_count": 4,
   "metadata": {
    "collapsed": false
   },
   "outputs": [
    {
     "data": {
      "text/html": [
       "<div>\n",
       "<table border=\"1\" class=\"dataframe\">\n",
       "  <thead>\n",
       "    <tr style=\"text-align: right;\">\n",
       "      <th></th>\n",
       "      <th>RowNumber</th>\n",
       "      <th>CustomerId</th>\n",
       "      <th>Surname</th>\n",
       "      <th>CreditScore</th>\n",
       "      <th>Geography</th>\n",
       "      <th>Gender</th>\n",
       "      <th>Age</th>\n",
       "      <th>Tenure</th>\n",
       "      <th>Balance</th>\n",
       "      <th>NumOfProducts</th>\n",
       "      <th>HasCrCard</th>\n",
       "      <th>IsActiveMember</th>\n",
       "      <th>EstimatedSalary</th>\n",
       "      <th>Exited</th>\n",
       "    </tr>\n",
       "  </thead>\n",
       "  <tbody>\n",
       "    <tr>\n",
       "      <th>0</th>\n",
       "      <td>1</td>\n",
       "      <td>15634602</td>\n",
       "      <td>Hargrave</td>\n",
       "      <td>619</td>\n",
       "      <td>France</td>\n",
       "      <td>Female</td>\n",
       "      <td>42</td>\n",
       "      <td>2</td>\n",
       "      <td>0.00</td>\n",
       "      <td>1</td>\n",
       "      <td>1</td>\n",
       "      <td>1</td>\n",
       "      <td>101348.88</td>\n",
       "      <td>1</td>\n",
       "    </tr>\n",
       "    <tr>\n",
       "      <th>1</th>\n",
       "      <td>2</td>\n",
       "      <td>15647311</td>\n",
       "      <td>Hill</td>\n",
       "      <td>608</td>\n",
       "      <td>Spain</td>\n",
       "      <td>Female</td>\n",
       "      <td>41</td>\n",
       "      <td>1</td>\n",
       "      <td>83807.86</td>\n",
       "      <td>1</td>\n",
       "      <td>0</td>\n",
       "      <td>1</td>\n",
       "      <td>112542.58</td>\n",
       "      <td>0</td>\n",
       "    </tr>\n",
       "    <tr>\n",
       "      <th>2</th>\n",
       "      <td>3</td>\n",
       "      <td>15619304</td>\n",
       "      <td>Onio</td>\n",
       "      <td>502</td>\n",
       "      <td>France</td>\n",
       "      <td>Female</td>\n",
       "      <td>42</td>\n",
       "      <td>8</td>\n",
       "      <td>159660.80</td>\n",
       "      <td>3</td>\n",
       "      <td>1</td>\n",
       "      <td>0</td>\n",
       "      <td>113931.57</td>\n",
       "      <td>1</td>\n",
       "    </tr>\n",
       "    <tr>\n",
       "      <th>3</th>\n",
       "      <td>4</td>\n",
       "      <td>15701354</td>\n",
       "      <td>Boni</td>\n",
       "      <td>699</td>\n",
       "      <td>France</td>\n",
       "      <td>Female</td>\n",
       "      <td>39</td>\n",
       "      <td>1</td>\n",
       "      <td>0.00</td>\n",
       "      <td>2</td>\n",
       "      <td>0</td>\n",
       "      <td>0</td>\n",
       "      <td>93826.63</td>\n",
       "      <td>0</td>\n",
       "    </tr>\n",
       "    <tr>\n",
       "      <th>4</th>\n",
       "      <td>5</td>\n",
       "      <td>15737888</td>\n",
       "      <td>Mitchell</td>\n",
       "      <td>850</td>\n",
       "      <td>Spain</td>\n",
       "      <td>Female</td>\n",
       "      <td>43</td>\n",
       "      <td>2</td>\n",
       "      <td>125510.82</td>\n",
       "      <td>1</td>\n",
       "      <td>1</td>\n",
       "      <td>1</td>\n",
       "      <td>79084.10</td>\n",
       "      <td>0</td>\n",
       "    </tr>\n",
       "  </tbody>\n",
       "</table>\n",
       "</div>"
      ],
      "text/plain": [
       "   RowNumber  CustomerId   Surname  CreditScore Geography  Gender  Age  \\\n",
       "0          1    15634602  Hargrave          619    France  Female   42   \n",
       "1          2    15647311      Hill          608     Spain  Female   41   \n",
       "2          3    15619304      Onio          502    France  Female   42   \n",
       "3          4    15701354      Boni          699    France  Female   39   \n",
       "4          5    15737888  Mitchell          850     Spain  Female   43   \n",
       "\n",
       "   Tenure    Balance  NumOfProducts  HasCrCard  IsActiveMember  \\\n",
       "0       2       0.00              1          1               1   \n",
       "1       1   83807.86              1          0               1   \n",
       "2       8  159660.80              3          1               0   \n",
       "3       1       0.00              2          0               0   \n",
       "4       2  125510.82              1          1               1   \n",
       "\n",
       "   EstimatedSalary  Exited  \n",
       "0        101348.88       1  \n",
       "1        112542.58       0  \n",
       "2        113931.57       1  \n",
       "3         93826.63       0  \n",
       "4         79084.10       0  "
      ]
     },
     "execution_count": 4,
     "metadata": {},
     "output_type": "execute_result"
    }
   ],
   "source": [
    "train.head()"
   ]
  },
  {
   "cell_type": "code",
   "execution_count": 5,
   "metadata": {
    "collapsed": false
   },
   "outputs": [],
   "source": [
    "genders = pd.get_dummies(train['Gender']).rename(columns=lambda x: str(x))\n",
    "geography = pd.get_dummies(train['Geography']).rename(columns=lambda x: str(x))\n",
    "train = pd.concat([train, genders, geography], axis=1)"
   ]
  },
  {
   "cell_type": "code",
   "execution_count": 6,
   "metadata": {
    "collapsed": false
   },
   "outputs": [
    {
     "data": {
      "text/html": [
       "<div>\n",
       "<table border=\"1\" class=\"dataframe\">\n",
       "  <thead>\n",
       "    <tr style=\"text-align: right;\">\n",
       "      <th></th>\n",
       "      <th>RowNumber</th>\n",
       "      <th>CustomerId</th>\n",
       "      <th>Surname</th>\n",
       "      <th>CreditScore</th>\n",
       "      <th>Geography</th>\n",
       "      <th>Gender</th>\n",
       "      <th>Age</th>\n",
       "      <th>Tenure</th>\n",
       "      <th>Balance</th>\n",
       "      <th>NumOfProducts</th>\n",
       "      <th>HasCrCard</th>\n",
       "      <th>IsActiveMember</th>\n",
       "      <th>EstimatedSalary</th>\n",
       "      <th>Exited</th>\n",
       "      <th>Female</th>\n",
       "      <th>Male</th>\n",
       "      <th>France</th>\n",
       "      <th>Germany</th>\n",
       "      <th>Spain</th>\n",
       "    </tr>\n",
       "  </thead>\n",
       "  <tbody>\n",
       "    <tr>\n",
       "      <th>0</th>\n",
       "      <td>1</td>\n",
       "      <td>15634602</td>\n",
       "      <td>Hargrave</td>\n",
       "      <td>619</td>\n",
       "      <td>France</td>\n",
       "      <td>Female</td>\n",
       "      <td>42</td>\n",
       "      <td>2</td>\n",
       "      <td>0.00</td>\n",
       "      <td>1</td>\n",
       "      <td>1</td>\n",
       "      <td>1</td>\n",
       "      <td>101348.88</td>\n",
       "      <td>1</td>\n",
       "      <td>1</td>\n",
       "      <td>0</td>\n",
       "      <td>1</td>\n",
       "      <td>0</td>\n",
       "      <td>0</td>\n",
       "    </tr>\n",
       "    <tr>\n",
       "      <th>1</th>\n",
       "      <td>2</td>\n",
       "      <td>15647311</td>\n",
       "      <td>Hill</td>\n",
       "      <td>608</td>\n",
       "      <td>Spain</td>\n",
       "      <td>Female</td>\n",
       "      <td>41</td>\n",
       "      <td>1</td>\n",
       "      <td>83807.86</td>\n",
       "      <td>1</td>\n",
       "      <td>0</td>\n",
       "      <td>1</td>\n",
       "      <td>112542.58</td>\n",
       "      <td>0</td>\n",
       "      <td>1</td>\n",
       "      <td>0</td>\n",
       "      <td>0</td>\n",
       "      <td>0</td>\n",
       "      <td>1</td>\n",
       "    </tr>\n",
       "    <tr>\n",
       "      <th>2</th>\n",
       "      <td>3</td>\n",
       "      <td>15619304</td>\n",
       "      <td>Onio</td>\n",
       "      <td>502</td>\n",
       "      <td>France</td>\n",
       "      <td>Female</td>\n",
       "      <td>42</td>\n",
       "      <td>8</td>\n",
       "      <td>159660.80</td>\n",
       "      <td>3</td>\n",
       "      <td>1</td>\n",
       "      <td>0</td>\n",
       "      <td>113931.57</td>\n",
       "      <td>1</td>\n",
       "      <td>1</td>\n",
       "      <td>0</td>\n",
       "      <td>1</td>\n",
       "      <td>0</td>\n",
       "      <td>0</td>\n",
       "    </tr>\n",
       "    <tr>\n",
       "      <th>3</th>\n",
       "      <td>4</td>\n",
       "      <td>15701354</td>\n",
       "      <td>Boni</td>\n",
       "      <td>699</td>\n",
       "      <td>France</td>\n",
       "      <td>Female</td>\n",
       "      <td>39</td>\n",
       "      <td>1</td>\n",
       "      <td>0.00</td>\n",
       "      <td>2</td>\n",
       "      <td>0</td>\n",
       "      <td>0</td>\n",
       "      <td>93826.63</td>\n",
       "      <td>0</td>\n",
       "      <td>1</td>\n",
       "      <td>0</td>\n",
       "      <td>1</td>\n",
       "      <td>0</td>\n",
       "      <td>0</td>\n",
       "    </tr>\n",
       "    <tr>\n",
       "      <th>4</th>\n",
       "      <td>5</td>\n",
       "      <td>15737888</td>\n",
       "      <td>Mitchell</td>\n",
       "      <td>850</td>\n",
       "      <td>Spain</td>\n",
       "      <td>Female</td>\n",
       "      <td>43</td>\n",
       "      <td>2</td>\n",
       "      <td>125510.82</td>\n",
       "      <td>1</td>\n",
       "      <td>1</td>\n",
       "      <td>1</td>\n",
       "      <td>79084.10</td>\n",
       "      <td>0</td>\n",
       "      <td>1</td>\n",
       "      <td>0</td>\n",
       "      <td>0</td>\n",
       "      <td>0</td>\n",
       "      <td>1</td>\n",
       "    </tr>\n",
       "  </tbody>\n",
       "</table>\n",
       "</div>"
      ],
      "text/plain": [
       "   RowNumber  CustomerId   Surname  CreditScore Geography  Gender  Age  \\\n",
       "0          1    15634602  Hargrave          619    France  Female   42   \n",
       "1          2    15647311      Hill          608     Spain  Female   41   \n",
       "2          3    15619304      Onio          502    France  Female   42   \n",
       "3          4    15701354      Boni          699    France  Female   39   \n",
       "4          5    15737888  Mitchell          850     Spain  Female   43   \n",
       "\n",
       "   Tenure    Balance  NumOfProducts  HasCrCard  IsActiveMember  \\\n",
       "0       2       0.00              1          1               1   \n",
       "1       1   83807.86              1          0               1   \n",
       "2       8  159660.80              3          1               0   \n",
       "3       1       0.00              2          0               0   \n",
       "4       2  125510.82              1          1               1   \n",
       "\n",
       "   EstimatedSalary  Exited  Female  Male  France  Germany  Spain  \n",
       "0        101348.88       1       1     0       1        0      0  \n",
       "1        112542.58       0       1     0       0        0      1  \n",
       "2        113931.57       1       1     0       1        0      0  \n",
       "3         93826.63       0       1     0       1        0      0  \n",
       "4         79084.10       0       1     0       0        0      1  "
      ]
     },
     "execution_count": 6,
     "metadata": {},
     "output_type": "execute_result"
    }
   ],
   "source": [
    "train.head()"
   ]
  },
  {
   "cell_type": "code",
   "execution_count": 7,
   "metadata": {
    "collapsed": true
   },
   "outputs": [],
   "source": [
    "y = train['Exited']"
   ]
  },
  {
   "cell_type": "code",
   "execution_count": 8,
   "metadata": {
    "collapsed": false
   },
   "outputs": [
    {
     "name": "stdout",
     "output_type": "stream",
     "text": [
      "Optimization terminated successfully.\n",
      "         Current function value: 0.428068\n",
      "         Iterations 6\n",
      "                           Logit Regression Results                           \n",
      "==============================================================================\n",
      "Dep. Variable:                 Exited   No. Observations:                10000\n",
      "Model:                          Logit   Df Residuals:                     9988\n",
      "Method:                           MLE   Df Model:                           11\n",
      "Date:                Thu, 09 Mar 2017   Pseudo R-squ.:                  0.1532\n",
      "Time:                        15:18:40   Log-Likelihood:                -4280.7\n",
      "converged:                       True   LL-Null:                       -5054.9\n",
      "                                        LLR p-value:                     0.000\n",
      "===================================================================================\n",
      "                      coef    std err          z      P>|z|      [95.0% Conf. Int.]\n",
      "-----------------------------------------------------------------------------------\n",
      "const              -3.9208      0.245    -15.980      0.000        -4.402    -3.440\n",
      "Age                 0.0727      0.003     28.230      0.000         0.068     0.078\n",
      "Balance          2.637e-06   5.14e-07      5.128      0.000      1.63e-06  3.64e-06\n",
      "CreditScore        -0.0007      0.000     -2.384      0.017        -0.001    -0.000\n",
      "EstimatedSalary  4.807e-07   4.74e-07      1.015      0.310     -4.48e-07  1.41e-06\n",
      "Spain               0.0352      0.071      0.499      0.618        -0.103     0.174\n",
      "Germany             0.7747      0.068     11.448      0.000         0.642     0.907\n",
      "HasCrCard          -0.0447      0.059     -0.753      0.452        -0.161     0.072\n",
      "IsActiveMember     -1.0754      0.058    -18.643      0.000        -1.189    -0.962\n",
      "Female              0.5285      0.054      9.699      0.000         0.422     0.635\n",
      "NumOfProducts      -0.1015      0.047     -2.154      0.031        -0.194    -0.009\n",
      "Tenure             -0.0159      0.009     -1.705      0.088        -0.034     0.002\n",
      "===================================================================================\n",
      "Confusion Matrix\n",
      "[[ 7666.   297.]\n",
      " [ 1600.   437.]]\n",
      "Model accuracy: 0.8103\n"
     ]
    }
   ],
   "source": [
    "X1 = train[['Age', 'Balance', 'CreditScore', 'EstimatedSalary', 'Spain', 'Germany', 'HasCrCard', 'IsActiveMember', 'Female', 'NumOfProducts', 'Tenure']]\n",
    "X1 = sm.add_constant(X1)\n",
    "model1 = sm.Logit(y, X1)\n",
    "results1 = model1.fit()\n",
    "print results1.summary()\n",
    "print \"Confusion Matrix\"\n",
    "print results1.pred_table()\n",
    "print \"Model accuracy:\", (results1.pred_table()[0][0]+results1.pred_table()[1][1])/len(train)"
   ]
  },
  {
   "cell_type": "code",
   "execution_count": 9,
   "metadata": {
    "collapsed": false
   },
   "outputs": [
    {
     "name": "stdout",
     "output_type": "stream",
     "text": [
      "Optimization terminated successfully.\n",
      "         Current function value: 0.428080\n",
      "         Iterations 6\n",
      "                           Logit Regression Results                           \n",
      "==============================================================================\n",
      "Dep. Variable:                 Exited   No. Observations:                10000\n",
      "Model:                          Logit   Df Residuals:                     9989\n",
      "Method:                           MLE   Df Model:                           10\n",
      "Date:                Thu, 09 Mar 2017   Pseudo R-squ.:                  0.1531\n",
      "Time:                        15:18:40   Log-Likelihood:                -4280.8\n",
      "converged:                       True   LL-Null:                       -5054.9\n",
      "                                        LLR p-value:                     0.000\n",
      "===================================================================================\n",
      "                      coef    std err          z      P>|z|      [95.0% Conf. Int.]\n",
      "-----------------------------------------------------------------------------------\n",
      "const              -3.9110      0.245    -15.994      0.000        -4.390    -3.432\n",
      "Age                 0.0727      0.003     28.238      0.000         0.068     0.078\n",
      "Balance          2.637e-06   5.14e-07      5.129      0.000      1.63e-06  3.65e-06\n",
      "CreditScore        -0.0007      0.000     -2.378      0.017        -0.001    -0.000\n",
      "EstimatedSalary  4.813e-07   4.74e-07      1.016      0.310     -4.47e-07  1.41e-06\n",
      "Germany             0.7629      0.063     12.041      0.000         0.639     0.887\n",
      "HasCrCard          -0.0449      0.059     -0.757      0.449        -0.161     0.071\n",
      "IsActiveMember     -1.0752      0.058    -18.640      0.000        -1.188    -0.962\n",
      "Female              0.5283      0.054      9.697      0.000         0.422     0.635\n",
      "NumOfProducts      -0.1013      0.047     -2.149      0.032        -0.194    -0.009\n",
      "Tenure             -0.0160      0.009     -1.708      0.088        -0.034     0.002\n",
      "===================================================================================\n",
      "Confusion Matrix\n",
      "[[ 7665.   298.]\n",
      " [ 1602.   435.]]\n",
      "Model accuracy: 0.81\n"
     ]
    }
   ],
   "source": [
    "X2 = train[['Age', 'Balance', 'CreditScore', 'EstimatedSalary', 'Germany', 'HasCrCard', 'IsActiveMember', 'Female', 'NumOfProducts', 'Tenure']]\n",
    "X2 = sm.add_constant(X2)\n",
    "model2 = sm.Logit(y, X2)\n",
    "results2 = model2.fit()\n",
    "print results2.summary()\n",
    "print \"Confusion Matrix\"\n",
    "print results2.pred_table()\n",
    "print \"Model accuracy:\", (results2.pred_table()[0][0]+results2.pred_table()[1][1])/len(train)"
   ]
  },
  {
   "cell_type": "code",
   "execution_count": 10,
   "metadata": {
    "collapsed": false
   },
   "outputs": [
    {
     "name": "stdout",
     "output_type": "stream",
     "text": [
      "Optimization terminated successfully.\n",
      "         Current function value: 0.428109\n",
      "         Iterations 6\n",
      "                           Logit Regression Results                           \n",
      "==============================================================================\n",
      "Dep. Variable:                 Exited   No. Observations:                10000\n",
      "Model:                          Logit   Df Residuals:                     9990\n",
      "Method:                           MLE   Df Model:                            9\n",
      "Date:                Thu, 09 Mar 2017   Pseudo R-squ.:                  0.1531\n",
      "Time:                        15:18:40   Log-Likelihood:                -4281.1\n",
      "converged:                       True   LL-Null:                       -5054.9\n",
      "                                        LLR p-value:                     0.000\n",
      "===================================================================================\n",
      "                      coef    std err          z      P>|z|      [95.0% Conf. Int.]\n",
      "-----------------------------------------------------------------------------------\n",
      "const              -3.9444      0.241    -16.395      0.000        -4.416    -3.473\n",
      "Age                 0.0727      0.003     28.243      0.000         0.068     0.078\n",
      "Balance          2.645e-06   5.14e-07      5.146      0.000      1.64e-06  3.65e-06\n",
      "CreditScore        -0.0007      0.000     -2.369      0.018        -0.001    -0.000\n",
      "EstimatedSalary  4.818e-07   4.74e-07      1.017      0.309     -4.47e-07  1.41e-06\n",
      "Germany             0.7619      0.063     12.028      0.000         0.638     0.886\n",
      "IsActiveMember     -1.0744      0.058    -18.631      0.000        -1.187    -0.961\n",
      "Female              0.5285      0.054      9.700      0.000         0.422     0.635\n",
      "NumOfProducts      -0.1013      0.047     -2.150      0.032        -0.194    -0.009\n",
      "Tenure             -0.0162      0.009     -1.727      0.084        -0.034     0.002\n",
      "===================================================================================\n",
      "Confusion Matrix\n",
      "[[ 7673.   290.]\n",
      " [ 1599.   438.]]\n",
      "Model accuracy: 0.8111\n"
     ]
    }
   ],
   "source": [
    "X3 = train[['Age', 'Balance', 'CreditScore', 'EstimatedSalary', 'Germany', 'IsActiveMember', 'Female', 'NumOfProducts', 'Tenure']]\n",
    "X3 = sm.add_constant(X3)\n",
    "model3 = sm.Logit(y, X3)\n",
    "results3 = model3.fit()\n",
    "print results3.summary()\n",
    "print \"Confusion Matrix\"\n",
    "print results3.pred_table()\n",
    "print \"Model accuracy:\", (results3.pred_table()[0][0]+results3.pred_table()[1][1])/len(train)"
   ]
  },
  {
   "cell_type": "code",
   "execution_count": 11,
   "metadata": {
    "collapsed": false
   },
   "outputs": [
    {
     "name": "stdout",
     "output_type": "stream",
     "text": [
      "Optimization terminated successfully.\n",
      "         Current function value: 0.428307\n",
      "         Iterations 6\n",
      "                           Logit Regression Results                           \n",
      "==============================================================================\n",
      "Dep. Variable:                 Exited   No. Observations:                10000\n",
      "Model:                          Logit   Df Residuals:                     9992\n",
      "Method:                           MLE   Df Model:                            7\n",
      "Date:                Thu, 09 Mar 2017   Pseudo R-squ.:                  0.1527\n",
      "Time:                        15:18:40   Log-Likelihood:                -4283.1\n",
      "converged:                       True   LL-Null:                       -5054.9\n",
      "                                        LLR p-value:                     0.000\n",
      "==================================================================================\n",
      "                     coef    std err          z      P>|z|      [95.0% Conf. Int.]\n",
      "----------------------------------------------------------------------------------\n",
      "const             -3.9760      0.231    -17.200      0.000        -4.429    -3.523\n",
      "Age                0.0727      0.003     28.237      0.000         0.068     0.078\n",
      "Balance         2.652e-06   5.14e-07      5.160      0.000      1.64e-06  3.66e-06\n",
      "CreditScore       -0.0007      0.000     -2.377      0.017        -0.001    -0.000\n",
      "Germany            0.7608      0.063     12.014      0.000         0.637     0.885\n",
      "IsActiveMember    -1.0718      0.058    -18.603      0.000        -1.185    -0.959\n",
      "Female             0.5306      0.054      9.741      0.000         0.424     0.637\n",
      "NumOfProducts     -0.1010      0.047     -2.144      0.032        -0.193    -0.009\n",
      "==================================================================================\n",
      "Confusion Matrix\n",
      "[[ 7676.   287.]\n",
      " [ 1601.   436.]]\n",
      "Model accuracy: 0.8112\n"
     ]
    }
   ],
   "source": [
    "X5 = train[['Age', 'Balance', 'CreditScore', 'Germany', 'IsActiveMember', 'Female', 'NumOfProducts']]\n",
    "X5 = sm.add_constant(X5)\n",
    "model5 = sm.Logit(y, X5)\n",
    "results5 = model5.fit()\n",
    "print results5.summary()\n",
    "print \"Confusion Matrix\"\n",
    "print results5.pred_table()\n",
    "print \"Model accuracy:\", (results5.pred_table()[0][0]+results5.pred_table()[1][1])/len(train)"
   ]
  },
  {
   "cell_type": "code",
   "execution_count": 12,
   "metadata": {
    "collapsed": false
   },
   "outputs": [
    {
     "name": "stdout",
     "output_type": "stream",
     "text": [
      "Optimization terminated successfully.\n",
      "         Current function value: 0.428161\n",
      "         Iterations 6\n",
      "                           Logit Regression Results                           \n",
      "==============================================================================\n",
      "Dep. Variable:                 Exited   No. Observations:                10000\n",
      "Model:                          Logit   Df Residuals:                     9991\n",
      "Method:                           MLE   Df Model:                            8\n",
      "Date:                Thu, 09 Mar 2017   Pseudo R-squ.:                  0.1530\n",
      "Time:                        15:18:40   Log-Likelihood:                -4281.6\n",
      "converged:                       True   LL-Null:                       -5054.9\n",
      "                                        LLR p-value:                     0.000\n",
      "==================================================================================\n",
      "                     coef    std err          z      P>|z|      [95.0% Conf. Int.]\n",
      "----------------------------------------------------------------------------------\n",
      "const             -3.8959      0.236    -16.528      0.000        -4.358    -3.434\n",
      "Age                0.0727      0.003     28.238      0.000         0.068     0.078\n",
      "Balance         2.653e-06   5.14e-07      5.162      0.000      1.65e-06  3.66e-06\n",
      "CreditScore       -0.0007      0.000     -2.378      0.017        -0.001    -0.000\n",
      "Germany            0.7621      0.063     12.031      0.000         0.638     0.886\n",
      "IsActiveMember    -1.0751      0.058    -18.644      0.000        -1.188    -0.962\n",
      "Female             0.5290      0.054      9.710      0.000         0.422     0.636\n",
      "NumOfProducts     -0.1005      0.047     -2.132      0.033        -0.193    -0.008\n",
      "Tenure            -0.0160      0.009     -1.710      0.087        -0.034     0.002\n",
      "==================================================================================\n",
      "Confusion Matrix\n",
      "[[ 7676.   287.]\n",
      " [ 1598.   439.]]\n",
      "Model accuracy: 0.8115\n"
     ]
    }
   ],
   "source": [
    "X4 = train[['Age', 'Balance', 'CreditScore', 'Germany', 'IsActiveMember', 'Female', 'NumOfProducts', 'Tenure']]\n",
    "X4 = sm.add_constant(X4)\n",
    "model4 = sm.Logit(y, X4)\n",
    "results4 = model4.fit()\n",
    "print results4.summary()\n",
    "print \"Confusion Matrix\"\n",
    "print results4.pred_table()\n",
    "print \"Model accuracy:\", (results4.pred_table()[0][0]+results4.pred_table()[1][1])/len(train)"
   ]
  },
  {
   "cell_type": "code",
   "execution_count": 13,
   "metadata": {
    "collapsed": true
   },
   "outputs": [],
   "source": [
    "train['Log_Balance'] = np.log(train['Balance'] + 1)"
   ]
  },
  {
   "cell_type": "code",
   "execution_count": 14,
   "metadata": {
    "collapsed": true
   },
   "outputs": [],
   "source": [
    "train['WealthAccumulation'] = train['Balance']/train['Age']"
   ]
  },
  {
   "cell_type": "code",
   "execution_count": 15,
   "metadata": {
    "collapsed": false
   },
   "outputs": [
    {
     "name": "stdout",
     "output_type": "stream",
     "text": [
      "Optimization terminated successfully.\n",
      "         Current function value: 0.428191\n",
      "         Iterations 6\n",
      "                           Logit Regression Results                           \n",
      "==============================================================================\n",
      "Dep. Variable:                 Exited   No. Observations:                10000\n",
      "Model:                          Logit   Df Residuals:                     9990\n",
      "Method:                           MLE   Df Model:                            9\n",
      "Date:                Thu, 09 Mar 2017   Pseudo R-squ.:                  0.1529\n",
      "Time:                        15:18:40   Log-Likelihood:                -4281.9\n",
      "converged:                       True   LL-Null:                       -5054.9\n",
      "                                        LLR p-value:                     0.000\n",
      "======================================================================================\n",
      "                         coef    std err          z      P>|z|      [95.0% Conf. Int.]\n",
      "--------------------------------------------------------------------------------------\n",
      "const                 -3.8276      0.248    -15.421      0.000        -4.314    -3.341\n",
      "Age                    0.0707      0.003     22.836      0.000         0.065     0.077\n",
      "Log_Balance            0.0413      0.012      3.572      0.000         0.019     0.064\n",
      "CreditScore           -0.0007      0.000     -2.410      0.016        -0.001    -0.000\n",
      "Germany                0.7463      0.065     11.459      0.000         0.619     0.874\n",
      "IsActiveMember        -1.0734      0.058    -18.612      0.000        -1.186    -0.960\n",
      "Female                 0.5257      0.054      9.651      0.000         0.419     0.632\n",
      "NumOfProducts         -0.0955      0.048     -2.009      0.045        -0.189    -0.002\n",
      "Tenure                -0.0159      0.009     -1.704      0.088        -0.034     0.002\n",
      "WealthAccumulation -4.336e-05   3.78e-05     -1.147      0.251        -0.000  3.07e-05\n",
      "======================================================================================\n",
      "Confusion Matrix\n",
      "[[ 7684.   279.]\n",
      " [ 1598.   439.]]\n",
      "Model accuracy: 0.8123\n"
     ]
    }
   ],
   "source": [
    "X7 = train[['Age', 'Log_Balance', 'CreditScore', 'Germany', 'IsActiveMember', 'Female', 'NumOfProducts', 'Tenure', 'WealthAccumulation']]\n",
    "X7 = sm.add_constant(X7)\n",
    "model7 = sm.Logit(y, X7)\n",
    "results7 = model7.fit()\n",
    "print results7.summary()\n",
    "print \"Confusion Matrix\"\n",
    "print results7.pred_table()\n",
    "print \"Model accuracy:\", (results7.pred_table()[0][0]+results7.pred_table()[1][1])/len(train)"
   ]
  },
  {
   "cell_type": "code",
   "execution_count": 16,
   "metadata": {
    "collapsed": false
   },
   "outputs": [
    {
     "name": "stdout",
     "output_type": "stream",
     "text": [
      "Optimization terminated successfully.\n",
      "         Current function value: 0.428832\n",
      "         Iterations 6\n",
      "                           Logit Regression Results                           \n",
      "==============================================================================\n",
      "Dep. Variable:                 Exited   No. Observations:                10000\n",
      "Model:                          Logit   Df Residuals:                     9991\n",
      "Method:                           MLE   Df Model:                            8\n",
      "Date:                Thu, 09 Mar 2017   Pseudo R-squ.:                  0.1516\n",
      "Time:                        15:18:40   Log-Likelihood:                -4288.3\n",
      "converged:                       True   LL-Null:                       -5054.9\n",
      "                                        LLR p-value:                     0.000\n",
      "======================================================================================\n",
      "                         coef    std err          z      P>|z|      [95.0% Conf. Int.]\n",
      "--------------------------------------------------------------------------------------\n",
      "const                 -3.9339      0.246    -15.967      0.000        -4.417    -3.451\n",
      "Age                    0.0758      0.003     27.579      0.000         0.070     0.081\n",
      "CreditScore           -0.0007      0.000     -2.399      0.016        -0.001    -0.000\n",
      "Germany                0.8082      0.063     12.843      0.000         0.685     0.932\n",
      "IsActiveMember        -1.0788      0.058    -18.708      0.000        -1.192    -0.966\n",
      "Female                 0.5263      0.054      9.670      0.000         0.420     0.633\n",
      "NumOfProducts         -0.1210      0.047     -2.569      0.010        -0.213    -0.029\n",
      "Tenure                -0.0158      0.009     -1.692      0.091        -0.034     0.003\n",
      "WealthAccumulation  7.075e-05   1.95e-05      3.636      0.000      3.26e-05     0.000\n",
      "======================================================================================\n",
      "Confusion Matrix\n",
      "[[ 7685.   278.]\n",
      " [ 1601.   436.]]\n",
      "Model accuracy: 0.8121\n"
     ]
    }
   ],
   "source": [
    "X8 = train[['Age', 'CreditScore', 'Germany', 'IsActiveMember', 'Female', 'NumOfProducts', 'Tenure', 'WealthAccumulation']]\n",
    "X8 = sm.add_constant(X8)\n",
    "model8 = sm.Logit(y, X8)\n",
    "results8 = model8.fit()\n",
    "print results8.summary()\n",
    "print \"Confusion Matrix\"\n",
    "print results8.pred_table()\n",
    "print \"Model accuracy:\", (results8.pred_table()[0][0]+results8.pred_table()[1][1])/len(train)"
   ]
  },
  {
   "cell_type": "code",
   "execution_count": 17,
   "metadata": {
    "collapsed": true
   },
   "outputs": [],
   "source": [
    "train['Log_WA'] = np.log(train['WealthAccumulation'] + 1)"
   ]
  },
  {
   "cell_type": "code",
   "execution_count": 18,
   "metadata": {
    "collapsed": false
   },
   "outputs": [
    {
     "name": "stdout",
     "output_type": "stream",
     "text": [
      "Optimization terminated successfully.\n",
      "         Current function value: 0.427891\n",
      "         Iterations 6\n",
      "                           Logit Regression Results                           \n",
      "==============================================================================\n",
      "Dep. Variable:                 Exited   No. Observations:                10000\n",
      "Model:                          Logit   Df Residuals:                     9990\n",
      "Method:                           MLE   Df Model:                            9\n",
      "Date:                Thu, 09 Mar 2017   Pseudo R-squ.:                  0.1535\n",
      "Time:                        15:18:40   Log-Likelihood:                -4278.9\n",
      "converged:                       True   LL-Null:                       -5054.9\n",
      "                                        LLR p-value:                     0.000\n",
      "==================================================================================\n",
      "                     coef    std err          z      P>|z|      [95.0% Conf. Int.]\n",
      "----------------------------------------------------------------------------------\n",
      "const             -3.5735      0.267    -13.362      0.000        -4.098    -3.049\n",
      "Age                0.0647      0.004     16.631      0.000         0.057     0.072\n",
      "CreditScore       -0.0007      0.000     -2.386      0.017        -0.001    -0.000\n",
      "Germany            0.7516      0.065     11.492      0.000         0.623     0.880\n",
      "IsActiveMember    -1.0687      0.058    -18.516      0.000        -1.182    -0.956\n",
      "Female             0.5263      0.055      9.655      0.000         0.420     0.633\n",
      "NumOfProducts     -0.0983      0.048     -2.063      0.039        -0.192    -0.005\n",
      "Tenure            -0.0162      0.009     -1.729      0.084        -0.035     0.002\n",
      "Log_WA            -0.5108      0.189     -2.702      0.007        -0.881    -0.140\n",
      "Log_Balance        0.3778      0.129      2.932      0.003         0.125     0.630\n",
      "==================================================================================\n",
      "Confusion Matrix\n",
      "[[ 7685.   278.]\n",
      " [ 1597.   440.]]\n",
      "Model accuracy: 0.8125\n"
     ]
    }
   ],
   "source": [
    "X9 = train[['Age', 'CreditScore', 'Germany', 'IsActiveMember', 'Female', 'NumOfProducts', 'Tenure', 'Log_WA', 'Log_Balance']]\n",
    "X9 = sm.add_constant(X9)\n",
    "model9 = sm.Logit(y, X9)\n",
    "results9 = model9.fit()\n",
    "print results9.summary()\n",
    "print \"Confusion Matrix\"\n",
    "print results9.pred_table()\n",
    "print \"Model accuracy:\", (results9.pred_table()[0][0]+results9.pred_table()[1][1])/len(train)"
   ]
  },
  {
   "cell_type": "code",
   "execution_count": 19,
   "metadata": {
    "collapsed": false
   },
   "outputs": [
    {
     "name": "stdout",
     "output_type": "stream",
     "text": [
      "Optimization terminated successfully.\n",
      "         Current function value: 0.428257\n",
      "         Iterations 6\n",
      "                           Logit Regression Results                           \n",
      "==============================================================================\n",
      "Dep. Variable:                 Exited   No. Observations:                10000\n",
      "Model:                          Logit   Df Residuals:                     9991\n",
      "Method:                           MLE   Df Model:                            8\n",
      "Date:                Thu, 09 Mar 2017   Pseudo R-squ.:                  0.1528\n",
      "Time:                        15:18:40   Log-Likelihood:                -4282.6\n",
      "converged:                       True   LL-Null:                       -5054.9\n",
      "                                        LLR p-value:                     0.000\n",
      "==================================================================================\n",
      "                     coef    std err          z      P>|z|      [95.0% Conf. Int.]\n",
      "----------------------------------------------------------------------------------\n",
      "const             -3.9126      0.237    -16.497      0.000        -4.377    -3.448\n",
      "Age                0.0727      0.003     28.221      0.000         0.068     0.078\n",
      "Log_Balance        0.0300      0.006      4.945      0.000         0.018     0.042\n",
      "CreditScore       -0.0007      0.000     -2.408      0.016        -0.001    -0.000\n",
      "Germany            0.7476      0.065     11.492      0.000         0.620     0.875\n",
      "IsActiveMember    -1.0758      0.058    -18.662      0.000        -1.189    -0.963\n",
      "Female             0.5267      0.054      9.672      0.000         0.420     0.633\n",
      "NumOfProducts     -0.0950      0.048     -1.999      0.046        -0.188    -0.002\n",
      "Tenure            -0.0159      0.009     -1.699      0.089        -0.034     0.002\n",
      "==================================================================================\n",
      "Confusion Matrix\n",
      "[[ 7687.   276.]\n",
      " [ 1597.   440.]]\n",
      "Model accuracy: 0.8127\n"
     ]
    }
   ],
   "source": [
    "X6 = train[['Age', 'Log_Balance', 'CreditScore', 'Germany', 'IsActiveMember', 'Female', 'NumOfProducts', 'Tenure']]\n",
    "X6 = sm.add_constant(X6)\n",
    "model6 = sm.Logit(y, X6)\n",
    "results6 = model6.fit()\n",
    "print results6.summary()\n",
    "print \"Confusion Matrix\"\n",
    "print results6.pred_table()\n",
    "print \"Model accuracy:\", (results6.pred_table()[0][0]+results6.pred_table()[1][1])/len(train)"
   ]
  },
  {
   "cell_type": "code",
   "execution_count": 45,
   "metadata": {
    "collapsed": true
   },
   "outputs": [],
   "source": [
    "predictions = pd.DataFrame(results6.predict(X6))"
   ]
  },
  {
   "cell_type": "code",
   "execution_count": 49,
   "metadata": {
    "collapsed": false
   },
   "outputs": [],
   "source": [
    "predictions.columns = ['P_Hat']"
   ]
  },
  {
   "cell_type": "code",
   "execution_count": 50,
   "metadata": {
    "collapsed": false
   },
   "outputs": [],
   "source": [
    "forecast = pd.concat([train[['RowNumber', 'Exited']], predictions], axis=1)"
   ]
  },
  {
   "cell_type": "code",
   "execution_count": 51,
   "metadata": {
    "collapsed": false
   },
   "outputs": [
    {
     "data": {
      "text/html": [
       "<div>\n",
       "<table border=\"1\" class=\"dataframe\">\n",
       "  <thead>\n",
       "    <tr style=\"text-align: right;\">\n",
       "      <th></th>\n",
       "      <th>RowNumber</th>\n",
       "      <th>Exited</th>\n",
       "      <th>P_Hat</th>\n",
       "    </tr>\n",
       "  </thead>\n",
       "  <tbody>\n",
       "    <tr>\n",
       "      <th>0</th>\n",
       "      <td>1</td>\n",
       "      <td>1</td>\n",
       "      <td>0.124048</td>\n",
       "    </tr>\n",
       "    <tr>\n",
       "      <th>1</th>\n",
       "      <td>2</td>\n",
       "      <td>0</td>\n",
       "      <td>0.159205</td>\n",
       "    </tr>\n",
       "    <tr>\n",
       "      <th>2</th>\n",
       "      <td>3</td>\n",
       "      <td>1</td>\n",
       "      <td>0.326060</td>\n",
       "    </tr>\n",
       "    <tr>\n",
       "      <th>3</th>\n",
       "      <td>4</td>\n",
       "      <td>0</td>\n",
       "      <td>0.226189</td>\n",
       "    </tr>\n",
       "    <tr>\n",
       "      <th>4</th>\n",
       "      <td>5</td>\n",
       "      <td>0</td>\n",
       "      <td>0.156311</td>\n",
       "    </tr>\n",
       "  </tbody>\n",
       "</table>\n",
       "</div>"
      ],
      "text/plain": [
       "   RowNumber  Exited     P_Hat\n",
       "0          1       1  0.124048\n",
       "1          2       0  0.159205\n",
       "2          3       1  0.326060\n",
       "3          4       0  0.226189\n",
       "4          5       0  0.156311"
      ]
     },
     "execution_count": 51,
     "metadata": {},
     "output_type": "execute_result"
    }
   ],
   "source": [
    "forecast.head()"
   ]
  },
  {
   "cell_type": "code",
   "execution_count": 60,
   "metadata": {
    "collapsed": false
   },
   "outputs": [],
   "source": [
    "df = forecast.sort_values('P_Hat', ascending=False)"
   ]
  },
  {
   "cell_type": "code",
   "execution_count": 72,
   "metadata": {
    "collapsed": false
   },
   "outputs": [],
   "source": [
    "df['Total Selected'] = [i + 1 for i in range(len(df))]"
   ]
  },
  {
   "cell_type": "code",
   "execution_count": 74,
   "metadata": {
    "collapsed": true
   },
   "outputs": [],
   "source": [
    "df['Total Select Percent'] = [(i + 1)/float(len(df)) for i in range(len(df))]"
   ]
  },
  {
   "cell_type": "code",
   "execution_count": 77,
   "metadata": {
    "collapsed": true
   },
   "outputs": [],
   "source": [
    "df['Random Select'] = [(i + 1)*df['Exited'].sum()/float(len(df)) for i in range(len(df))]"
   ]
  },
  {
   "cell_type": "code",
   "execution_count": 77,
   "metadata": {
    "collapsed": true
   },
   "outputs": [],
   "source": [
    "df['Random Select Percent'] = [(i + 1)*df['Exited'].sum()/float(len(df)) for i in range(len(df))]"
   ]
  },
  {
   "cell_type": "code",
   "execution_count": 78,
   "metadata": {
    "collapsed": false
   },
   "outputs": [
    {
     "data": {
      "text/html": [
       "<div>\n",
       "<table border=\"1\" class=\"dataframe\">\n",
       "  <thead>\n",
       "    <tr style=\"text-align: right;\">\n",
       "      <th></th>\n",
       "      <th>RowNumber</th>\n",
       "      <th>Exited</th>\n",
       "      <th>P_Hat</th>\n",
       "      <th>Total Selected</th>\n",
       "      <th>Total Select Percent</th>\n",
       "      <th>Random Select</th>\n",
       "    </tr>\n",
       "  </thead>\n",
       "  <tbody>\n",
       "    <tr>\n",
       "      <th>4815</th>\n",
       "      <td>4816</td>\n",
       "      <td>0</td>\n",
       "      <td>0.930669</td>\n",
       "      <td>1</td>\n",
       "      <td>0.0001</td>\n",
       "      <td>0.2037</td>\n",
       "    </tr>\n",
       "    <tr>\n",
       "      <th>3531</th>\n",
       "      <td>3532</td>\n",
       "      <td>1</td>\n",
       "      <td>0.928311</td>\n",
       "      <td>2</td>\n",
       "      <td>0.0002</td>\n",
       "      <td>0.4074</td>\n",
       "    </tr>\n",
       "    <tr>\n",
       "      <th>9587</th>\n",
       "      <td>9588</td>\n",
       "      <td>0</td>\n",
       "      <td>0.923303</td>\n",
       "      <td>3</td>\n",
       "      <td>0.0003</td>\n",
       "      <td>0.6111</td>\n",
       "    </tr>\n",
       "    <tr>\n",
       "      <th>7499</th>\n",
       "      <td>7500</td>\n",
       "      <td>1</td>\n",
       "      <td>0.906178</td>\n",
       "      <td>4</td>\n",
       "      <td>0.0004</td>\n",
       "      <td>0.8148</td>\n",
       "    </tr>\n",
       "    <tr>\n",
       "      <th>9555</th>\n",
       "      <td>9556</td>\n",
       "      <td>1</td>\n",
       "      <td>0.904457</td>\n",
       "      <td>5</td>\n",
       "      <td>0.0005</td>\n",
       "      <td>1.0185</td>\n",
       "    </tr>\n",
       "  </tbody>\n",
       "</table>\n",
       "</div>"
      ],
      "text/plain": [
       "      RowNumber  Exited     P_Hat  Total Selected  Total Select Percent  \\\n",
       "4815       4816       0  0.930669               1                0.0001   \n",
       "3531       3532       1  0.928311               2                0.0002   \n",
       "9587       9588       0  0.923303               3                0.0003   \n",
       "7499       7500       1  0.906178               4                0.0004   \n",
       "9555       9556       1  0.904457               5                0.0005   \n",
       "\n",
       "      Random Select  \n",
       "4815         0.2037  \n",
       "3531         0.4074  \n",
       "9587         0.6111  \n",
       "7499         0.8148  \n",
       "9555         1.0185  "
      ]
     },
     "execution_count": 78,
     "metadata": {},
     "output_type": "execute_result"
    }
   ],
   "source": [
    "df.head()"
   ]
  },
  {
   "cell_type": "code",
   "execution_count": 70,
   "metadata": {
    "collapsed": false
   },
   "outputs": [
    {
     "name": "stdout",
     "output_type": "stream",
     "text": [
      "Stats\n",
      "Total Exited: 2037\n",
      "Total Records: 10000\n",
      "Exit Ratio: 0.2037\n"
     ]
    }
   ],
   "source": [
    "print \"Stats\"\n",
    "print \"Total Exited:\", df['Exited'].sum()\n",
    "print \"Total Records:\", len(df)\n",
    "print \"Exit Ratio: %.4f\" % (df['Exited'].sum()/float(len(df)))"
   ]
  },
  {
   "cell_type": "code",
   "execution_count": null,
   "metadata": {
    "collapsed": true
   },
   "outputs": [],
   "source": []
  }
 ],
 "metadata": {
  "kernelspec": {
   "display_name": "Python 2",
   "language": "python",
   "name": "python2"
  },
  "language_info": {
   "codemirror_mode": {
    "name": "ipython",
    "version": 2
   },
   "file_extension": ".py",
   "mimetype": "text/x-python",
   "name": "python",
   "nbconvert_exporter": "python",
   "pygments_lexer": "ipython2",
   "version": "2.7.13"
  }
 },
 "nbformat": 4,
 "nbformat_minor": 0
}
