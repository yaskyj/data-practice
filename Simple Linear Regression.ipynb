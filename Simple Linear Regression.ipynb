{
 "cells": [
  {
   "cell_type": "code",
   "execution_count": 1,
   "metadata": {
    "collapsed": false
   },
   "outputs": [],
   "source": [
    "import warnings\n",
    "warnings.filterwarnings('ignore')\n",
    "import pandas as pd\n",
    "import numpy as np\n",
    "from sklearn import linear_model\n",
    "import statsmodels.api as sm\n",
    "from bokeh.plotting import *\n",
    "from bokeh.io import output_notebook\n",
    "from bokeh.charts import Scatter, show"
   ]
  },
  {
   "cell_type": "code",
   "execution_count": 2,
   "metadata": {
    "collapsed": false
   },
   "outputs": [
    {
     "data": {
      "text/html": [
       "\n",
       "    <div class=\"bk-root\">\n",
       "        <a href=\"http://bokeh.pydata.org\" target=\"_blank\" class=\"bk-logo bk-logo-small bk-logo-notebook\"></a>\n",
       "        <span id=\"0e90ca2a-da32-498c-b8dc-b1f77175c339\">Loading BokehJS ...</span>\n",
       "    </div>"
      ]
     },
     "metadata": {},
     "output_type": "display_data"
    },
    {
     "data": {
      "application/javascript": [
       "\n",
       "(function(global) {\n",
       "  function now() {\n",
       "    return new Date();\n",
       "  }\n",
       "\n",
       "  if (typeof (window._bokeh_onload_callbacks) === \"undefined\") {\n",
       "    window._bokeh_onload_callbacks = [];\n",
       "  }\n",
       "\n",
       "  function run_callbacks() {\n",
       "    window._bokeh_onload_callbacks.forEach(function(callback) { callback() });\n",
       "    delete window._bokeh_onload_callbacks\n",
       "    console.info(\"Bokeh: all callbacks have finished\");\n",
       "  }\n",
       "\n",
       "  function load_libs(js_urls, callback) {\n",
       "    window._bokeh_onload_callbacks.push(callback);\n",
       "    if (window._bokeh_is_loading > 0) {\n",
       "      console.log(\"Bokeh: BokehJS is being loaded, scheduling callback at\", now());\n",
       "      return null;\n",
       "    }\n",
       "    if (js_urls == null || js_urls.length === 0) {\n",
       "      run_callbacks();\n",
       "      return null;\n",
       "    }\n",
       "    console.log(\"Bokeh: BokehJS not loaded, scheduling load and callback at\", now());\n",
       "    window._bokeh_is_loading = js_urls.length;\n",
       "    for (var i = 0; i < js_urls.length; i++) {\n",
       "      var url = js_urls[i];\n",
       "      var s = document.createElement('script');\n",
       "      s.src = url;\n",
       "      s.async = false;\n",
       "      s.onreadystatechange = s.onload = function() {\n",
       "        window._bokeh_is_loading--;\n",
       "        if (window._bokeh_is_loading === 0) {\n",
       "          console.log(\"Bokeh: all BokehJS libraries loaded\");\n",
       "          run_callbacks()\n",
       "        }\n",
       "      };\n",
       "      s.onerror = function() {\n",
       "        console.warn(\"failed to load library \" + url);\n",
       "      };\n",
       "      console.log(\"Bokeh: injecting script tag for BokehJS library: \", url);\n",
       "      document.getElementsByTagName(\"head\")[0].appendChild(s);\n",
       "    }\n",
       "  };\n",
       "\n",
       "  var js_urls = ['https://cdn.pydata.org/bokeh/release/bokeh-0.12.0.min.js', 'https://cdn.pydata.org/bokeh/release/bokeh-widgets-0.12.0.min.js', 'https://cdn.pydata.org/bokeh/release/bokeh-compiler-0.12.0.min.js'];\n",
       "\n",
       "  var inline_js = [\n",
       "    function(Bokeh) {\n",
       "      Bokeh.set_log_level(\"info\");\n",
       "    },\n",
       "    \n",
       "    function(Bokeh) {\n",
       "      Bokeh.$(\"#0e90ca2a-da32-498c-b8dc-b1f77175c339\").text(\"BokehJS successfully loaded\");\n",
       "    },\n",
       "    function(Bokeh) {\n",
       "      console.log(\"Bokeh: injecting CSS: https://cdn.pydata.org/bokeh/release/bokeh-0.12.0.min.css\");\n",
       "      Bokeh.embed.inject_css(\"https://cdn.pydata.org/bokeh/release/bokeh-0.12.0.min.css\");\n",
       "      console.log(\"Bokeh: injecting CSS: https://cdn.pydata.org/bokeh/release/bokeh-widgets-0.12.0.min.css\");\n",
       "      Bokeh.embed.inject_css(\"https://cdn.pydata.org/bokeh/release/bokeh-widgets-0.12.0.min.css\");\n",
       "    }\n",
       "  ];\n",
       "\n",
       "  function run_inline_js() {\n",
       "    for (var i = 0; i < inline_js.length; i++) {\n",
       "      inline_js[i](window.Bokeh);\n",
       "    }\n",
       "  }\n",
       "\n",
       "  if (window._bokeh_is_loading === 0) {\n",
       "    console.log(\"Bokeh: BokehJS loaded, going straight to plotting\");\n",
       "    run_inline_js();\n",
       "  } else {\n",
       "    load_libs(js_urls, function() {\n",
       "      console.log(\"Bokeh: BokehJS plotting callback run at\", now());\n",
       "      run_inline_js();\n",
       "    });\n",
       "  }\n",
       "}(this));"
      ]
     },
     "metadata": {},
     "output_type": "display_data"
    }
   ],
   "source": [
    "output_notebook()"
   ]
  },
  {
   "cell_type": "code",
   "execution_count": 3,
   "metadata": {
    "collapsed": true
   },
   "outputs": [],
   "source": [
    "df = pd.read_csv('SalaryData.csv')"
   ]
  },
  {
   "cell_type": "code",
   "execution_count": 4,
   "metadata": {
    "collapsed": false
   },
   "outputs": [
    {
     "data": {
      "text/html": [
       "<div>\n",
       "<table border=\"1\" class=\"dataframe\">\n",
       "  <thead>\n",
       "    <tr style=\"text-align: right;\">\n",
       "      <th></th>\n",
       "      <th>YearsExperience</th>\n",
       "      <th>Salary</th>\n",
       "    </tr>\n",
       "  </thead>\n",
       "  <tbody>\n",
       "    <tr>\n",
       "      <th>count</th>\n",
       "      <td>30.000000</td>\n",
       "      <td>30.000000</td>\n",
       "    </tr>\n",
       "    <tr>\n",
       "      <th>mean</th>\n",
       "      <td>5.313333</td>\n",
       "      <td>76003.000000</td>\n",
       "    </tr>\n",
       "    <tr>\n",
       "      <th>std</th>\n",
       "      <td>2.837888</td>\n",
       "      <td>27414.429785</td>\n",
       "    </tr>\n",
       "    <tr>\n",
       "      <th>min</th>\n",
       "      <td>1.100000</td>\n",
       "      <td>37731.000000</td>\n",
       "    </tr>\n",
       "    <tr>\n",
       "      <th>25%</th>\n",
       "      <td>3.200000</td>\n",
       "      <td>56720.750000</td>\n",
       "    </tr>\n",
       "    <tr>\n",
       "      <th>50%</th>\n",
       "      <td>4.700000</td>\n",
       "      <td>65237.000000</td>\n",
       "    </tr>\n",
       "    <tr>\n",
       "      <th>75%</th>\n",
       "      <td>7.700000</td>\n",
       "      <td>100544.750000</td>\n",
       "    </tr>\n",
       "    <tr>\n",
       "      <th>max</th>\n",
       "      <td>10.500000</td>\n",
       "      <td>122391.000000</td>\n",
       "    </tr>\n",
       "  </tbody>\n",
       "</table>\n",
       "</div>"
      ],
      "text/plain": [
       "       YearsExperience         Salary\n",
       "count        30.000000      30.000000\n",
       "mean          5.313333   76003.000000\n",
       "std           2.837888   27414.429785\n",
       "min           1.100000   37731.000000\n",
       "25%           3.200000   56720.750000\n",
       "50%           4.700000   65237.000000\n",
       "75%           7.700000  100544.750000\n",
       "max          10.500000  122391.000000"
      ]
     },
     "execution_count": 4,
     "metadata": {},
     "output_type": "execute_result"
    }
   ],
   "source": [
    "df.describe()"
   ]
  },
  {
   "cell_type": "code",
   "execution_count": 5,
   "metadata": {
    "collapsed": false
   },
   "outputs": [
    {
     "name": "stdout",
     "output_type": "stream",
     "text": [
      "                            OLS Regression Results                            \n",
      "==============================================================================\n",
      "Dep. Variable:                 Salary   R-squared:                       0.957\n",
      "Model:                            OLS   Adj. R-squared:                  0.955\n",
      "Method:                 Least Squares   F-statistic:                     622.5\n",
      "Date:                Sun, 05 Mar 2017   Prob (F-statistic):           1.14e-20\n",
      "Time:                        09:28:51   Log-Likelihood:                -301.44\n",
      "No. Observations:                  30   AIC:                             606.9\n",
      "Df Residuals:                      28   BIC:                             609.7\n",
      "Df Model:                           1                                         \n",
      "Covariance Type:            nonrobust                                         \n",
      "===================================================================================\n",
      "                      coef    std err          t      P>|t|      [95.0% Conf. Int.]\n",
      "-----------------------------------------------------------------------------------\n",
      "const            2.579e+04   2273.053     11.347      0.000      2.11e+04  3.04e+04\n",
      "YearsExperience  9449.9623    378.755     24.950      0.000      8674.119  1.02e+04\n",
      "==============================================================================\n",
      "Omnibus:                        2.140   Durbin-Watson:                   1.648\n",
      "Prob(Omnibus):                  0.343   Jarque-Bera (JB):                1.569\n",
      "Skew:                           0.363   Prob(JB):                        0.456\n",
      "Kurtosis:                       2.147   Cond. No.                         13.2\n",
      "==============================================================================\n",
      "\n",
      "Warnings:\n",
      "[1] Standard Errors assume that the covariance matrix of the errors is correctly specified.\n"
     ]
    }
   ],
   "source": [
    "y = df['Salary']\n",
    "X = df['YearsExperience']\n",
    "X = sm.add_constant(X)\n",
    "model = sm.OLS(y, X)\n",
    "results = model.fit()\n",
    "print(results.summary())"
   ]
  },
  {
   "cell_type": "code",
   "execution_count": 6,
   "metadata": {
    "collapsed": false
   },
   "outputs": [],
   "source": [
    "# Now we calculate the predicted values\n",
    "y_hat = results.predict(X)"
   ]
  },
  {
   "cell_type": "code",
   "execution_count": 7,
   "metadata": {
    "collapsed": false,
    "scrolled": false
   },
   "outputs": [
    {
     "data": {
      "text/html": [
       "\n",
       "\n",
       "    <div class=\"bk-root\">\n",
       "        <div class=\"plotdiv\" id=\"540e31e3-1a87-4cdd-845c-a244e083511e\"></div>\n",
       "    </div>\n",
       "<script type=\"text/javascript\">\n",
       "  \n",
       "  (function(global) {\n",
       "    function now() {\n",
       "      return new Date();\n",
       "    }\n",
       "  \n",
       "    if (typeof (window._bokeh_onload_callbacks) === \"undefined\") {\n",
       "      window._bokeh_onload_callbacks = [];\n",
       "    }\n",
       "  \n",
       "    function run_callbacks() {\n",
       "      window._bokeh_onload_callbacks.forEach(function(callback) { callback() });\n",
       "      delete window._bokeh_onload_callbacks\n",
       "      console.info(\"Bokeh: all callbacks have finished\");\n",
       "    }\n",
       "  \n",
       "    function load_libs(js_urls, callback) {\n",
       "      window._bokeh_onload_callbacks.push(callback);\n",
       "      if (window._bokeh_is_loading > 0) {\n",
       "        console.log(\"Bokeh: BokehJS is being loaded, scheduling callback at\", now());\n",
       "        return null;\n",
       "      }\n",
       "      if (js_urls == null || js_urls.length === 0) {\n",
       "        run_callbacks();\n",
       "        return null;\n",
       "      }\n",
       "      console.log(\"Bokeh: BokehJS not loaded, scheduling load and callback at\", now());\n",
       "      window._bokeh_is_loading = js_urls.length;\n",
       "      for (var i = 0; i < js_urls.length; i++) {\n",
       "        var url = js_urls[i];\n",
       "        var s = document.createElement('script');\n",
       "        s.src = url;\n",
       "        s.async = false;\n",
       "        s.onreadystatechange = s.onload = function() {\n",
       "          window._bokeh_is_loading--;\n",
       "          if (window._bokeh_is_loading === 0) {\n",
       "            console.log(\"Bokeh: all BokehJS libraries loaded\");\n",
       "            run_callbacks()\n",
       "          }\n",
       "        };\n",
       "        s.onerror = function() {\n",
       "          console.warn(\"failed to load library \" + url);\n",
       "        };\n",
       "        console.log(\"Bokeh: injecting script tag for BokehJS library: \", url);\n",
       "        document.getElementsByTagName(\"head\")[0].appendChild(s);\n",
       "      }\n",
       "    };var element = document.getElementById(\"540e31e3-1a87-4cdd-845c-a244e083511e\");\n",
       "    if (element == null) {\n",
       "      console.log(\"Bokeh: ERROR: autoload.js configured with elementid '540e31e3-1a87-4cdd-845c-a244e083511e' but no matching script tag was found. \")\n",
       "      return false;\n",
       "    }\n",
       "  \n",
       "    var js_urls = [];\n",
       "  \n",
       "    var inline_js = [\n",
       "      function(Bokeh) {\n",
       "        Bokeh.$(function() {\n",
       "            var docs_json = {\"647408b3-2faf-40ee-85b1-8e9862e4dc5c\":{\"roots\":{\"references\":[{\"attributes\":{},\"id\":\"be2676c9-31a9-4301-a746-c97e203d5e5d\",\"type\":\"BasicTicker\"},{\"attributes\":{\"data_source\":{\"id\":\"8ff465fe-1153-4273-9b79-c756d415c0e5\",\"type\":\"ColumnDataSource\"},\"glyph\":{\"id\":\"4be2a78d-d4a7-4fac-81e6-602cca12c2ab\",\"type\":\"Line\"},\"hover_glyph\":null,\"nonselection_glyph\":{\"id\":\"fe88f261-6820-4a7b-a3e9-3df9c7ade9a9\",\"type\":\"Line\"},\"selection_glyph\":null},\"id\":\"85a6fed8-1122-4c92-b8b4-61680ce8f76c\",\"type\":\"GlyphRenderer\"},{\"attributes\":{\"plot\":{\"id\":\"a3f333fc-73dc-4f4c-b03f-f3c3752759ac\",\"subtype\":\"Figure\",\"type\":\"Plot\"},\"ticker\":{\"id\":\"be2676c9-31a9-4301-a746-c97e203d5e5d\",\"type\":\"BasicTicker\"}},\"id\":\"ac9ea747-7514-4af0-b870-45bc3f916907\",\"type\":\"Grid\"},{\"attributes\":{\"plot\":{\"id\":\"a3f333fc-73dc-4f4c-b03f-f3c3752759ac\",\"subtype\":\"Figure\",\"type\":\"Plot\"}},\"id\":\"a333e2c5-19ae-43af-af65-891b67161a64\",\"type\":\"HelpTool\"},{\"attributes\":{\"callback\":null,\"column_names\":[\"y\",\"x\"],\"data\":{\"x\":[1.1,1.3,1.5,2.0,2.2,2.9,3.0,3.2,3.2,3.7,3.9,4.0,4.0,4.1,4.5,4.9,5.1,5.3,5.9,6.0,6.8,7.1,7.9,8.2,8.7,9.0,9.5,9.6,10.3,10.5],\"y\":[39343.0,46205.0,37731.0,43525.0,39891.0,56642.0,60150.0,54445.0,64445.0,57189.0,63218.0,55794.0,56957.0,57081.0,61111.0,67938.0,66029.0,83088.0,81363.0,93940.0,91738.0,98273.0,101302.0,113812.0,109431.0,105582.0,116969.0,112635.0,122391.0,121872.0]}},\"id\":\"c62619ca-f50b-4c99-9ada-f6a7b3265743\",\"type\":\"ColumnDataSource\"},{\"attributes\":{\"formatter\":{\"id\":\"fdda89d2-d185-4b56-a213-15c114908cf2\",\"type\":\"BasicTickFormatter\"},\"plot\":{\"id\":\"a3f333fc-73dc-4f4c-b03f-f3c3752759ac\",\"subtype\":\"Figure\",\"type\":\"Plot\"},\"ticker\":{\"id\":\"be2676c9-31a9-4301-a746-c97e203d5e5d\",\"type\":\"BasicTicker\"}},\"id\":\"1219e54c-7de3-4d15-80ed-41fd400b3d13\",\"type\":\"LinearAxis\"},{\"attributes\":{\"plot\":{\"id\":\"a3f333fc-73dc-4f4c-b03f-f3c3752759ac\",\"subtype\":\"Figure\",\"type\":\"Plot\"}},\"id\":\"24350bf7-1970-4b15-8865-c478c3e0ecf5\",\"type\":\"SaveTool\"},{\"attributes\":{\"formatter\":{\"id\":\"9790e098-f27c-4089-b214-8cbe8c2cc2d2\",\"type\":\"BasicTickFormatter\"},\"plot\":{\"id\":\"a3f333fc-73dc-4f4c-b03f-f3c3752759ac\",\"subtype\":\"Figure\",\"type\":\"Plot\"},\"ticker\":{\"id\":\"664919d7-2a2a-44e4-8142-68779ced8373\",\"type\":\"BasicTicker\"}},\"id\":\"0cf1572b-1b5b-449f-a11f-ccbba93d31cd\",\"type\":\"LinearAxis\"},{\"attributes\":{\"below\":[{\"id\":\"1219e54c-7de3-4d15-80ed-41fd400b3d13\",\"type\":\"LinearAxis\"}],\"left\":[{\"id\":\"0cf1572b-1b5b-449f-a11f-ccbba93d31cd\",\"type\":\"LinearAxis\"}],\"renderers\":[{\"id\":\"1219e54c-7de3-4d15-80ed-41fd400b3d13\",\"type\":\"LinearAxis\"},{\"id\":\"ac9ea747-7514-4af0-b870-45bc3f916907\",\"type\":\"Grid\"},{\"id\":\"0cf1572b-1b5b-449f-a11f-ccbba93d31cd\",\"type\":\"LinearAxis\"},{\"id\":\"c1fea62e-2968-4448-bf12-c229d8c60462\",\"type\":\"Grid\"},{\"id\":\"efcf64af-e912-4305-8df2-26084f64eeef\",\"type\":\"BoxAnnotation\"},{\"id\":\"85a6fed8-1122-4c92-b8b4-61680ce8f76c\",\"type\":\"GlyphRenderer\"},{\"id\":\"df78bcda-1e26-4b78-abbd-3197e331f250\",\"type\":\"GlyphRenderer\"}],\"title\":{\"id\":\"9d729c10-35fa-40a0-afd9-a470cfa1d954\",\"type\":\"Title\"},\"tool_events\":{\"id\":\"dd12cc5e-6555-4029-9b82-6c0baa1e7497\",\"type\":\"ToolEvents\"},\"toolbar\":{\"id\":\"3e4eb76b-9020-4939-9376-97aa2d01742d\",\"type\":\"Toolbar\"},\"x_range\":{\"id\":\"019158fe-be5f-4e90-a9db-d695fd7a4c3a\",\"type\":\"DataRange1d\"},\"y_range\":{\"id\":\"435ab0c6-da23-4f6e-880b-1c8e1dc213b8\",\"type\":\"DataRange1d\"}},\"id\":\"a3f333fc-73dc-4f4c-b03f-f3c3752759ac\",\"subtype\":\"Figure\",\"type\":\"Plot\"},{\"attributes\":{\"use_scientific\":false},\"id\":\"fdda89d2-d185-4b56-a213-15c114908cf2\",\"type\":\"BasicTickFormatter\"},{\"attributes\":{\"callback\":null},\"id\":\"435ab0c6-da23-4f6e-880b-1c8e1dc213b8\",\"type\":\"DataRange1d\"},{\"attributes\":{\"callback\":null},\"id\":\"019158fe-be5f-4e90-a9db-d695fd7a4c3a\",\"type\":\"DataRange1d\"},{\"attributes\":{},\"id\":\"664919d7-2a2a-44e4-8142-68779ced8373\",\"type\":\"BasicTicker\"},{\"attributes\":{\"use_scientific\":false},\"id\":\"9790e098-f27c-4089-b214-8cbe8c2cc2d2\",\"type\":\"BasicTickFormatter\"},{\"attributes\":{\"fill_alpha\":{\"value\":0.1},\"fill_color\":{\"value\":\"#1f77b4\"},\"line_alpha\":{\"value\":0.1},\"line_color\":{\"value\":\"#1f77b4\"},\"x\":{\"field\":\"x\"},\"y\":{\"field\":\"y\"}},\"id\":\"87349aa4-d942-4ddf-9b93-935f8d617cb0\",\"type\":\"Circle\"},{\"attributes\":{\"line_color\":{\"value\":\"#1f77b4\"},\"line_width\":{\"value\":2},\"x\":{\"field\":\"x\"},\"y\":{\"field\":\"y\"}},\"id\":\"4be2a78d-d4a7-4fac-81e6-602cca12c2ab\",\"type\":\"Line\"},{\"attributes\":{\"active_drag\":\"auto\",\"active_scroll\":\"auto\",\"active_tap\":\"auto\",\"tools\":[{\"id\":\"d6440633-d431-46d8-b45e-ee8cef3e2e09\",\"type\":\"PanTool\"},{\"id\":\"16bcc72d-083c-45d1-9932-13e989715a7e\",\"type\":\"WheelZoomTool\"},{\"id\":\"b10c0196-2772-40eb-b869-1ee494dcae57\",\"type\":\"BoxZoomTool\"},{\"id\":\"24350bf7-1970-4b15-8865-c478c3e0ecf5\",\"type\":\"SaveTool\"},{\"id\":\"e4a8f3fd-aebd-4c20-afb8-b306397223a1\",\"type\":\"ResetTool\"},{\"id\":\"a333e2c5-19ae-43af-af65-891b67161a64\",\"type\":\"HelpTool\"}]},\"id\":\"3e4eb76b-9020-4939-9376-97aa2d01742d\",\"type\":\"Toolbar\"},{\"attributes\":{\"fill_color\":{\"value\":\"#1f77b4\"},\"line_color\":{\"value\":\"#1f77b4\"},\"x\":{\"field\":\"x\"},\"y\":{\"field\":\"y\"}},\"id\":\"7feef622-629b-4efe-92c0-ad4333745933\",\"type\":\"Circle\"},{\"attributes\":{},\"id\":\"dd12cc5e-6555-4029-9b82-6c0baa1e7497\",\"type\":\"ToolEvents\"},{\"attributes\":{\"overlay\":{\"id\":\"efcf64af-e912-4305-8df2-26084f64eeef\",\"type\":\"BoxAnnotation\"},\"plot\":{\"id\":\"a3f333fc-73dc-4f4c-b03f-f3c3752759ac\",\"subtype\":\"Figure\",\"type\":\"Plot\"}},\"id\":\"b10c0196-2772-40eb-b869-1ee494dcae57\",\"type\":\"BoxZoomTool\"},{\"attributes\":{\"plot\":{\"id\":\"a3f333fc-73dc-4f4c-b03f-f3c3752759ac\",\"subtype\":\"Figure\",\"type\":\"Plot\"}},\"id\":\"e4a8f3fd-aebd-4c20-afb8-b306397223a1\",\"type\":\"ResetTool\"},{\"attributes\":{\"plot\":{\"id\":\"a3f333fc-73dc-4f4c-b03f-f3c3752759ac\",\"subtype\":\"Figure\",\"type\":\"Plot\"}},\"id\":\"16bcc72d-083c-45d1-9932-13e989715a7e\",\"type\":\"WheelZoomTool\"},{\"attributes\":{\"plot\":null,\"text\":null},\"id\":\"9d729c10-35fa-40a0-afd9-a470cfa1d954\",\"type\":\"Title\"},{\"attributes\":{\"plot\":{\"id\":\"a3f333fc-73dc-4f4c-b03f-f3c3752759ac\",\"subtype\":\"Figure\",\"type\":\"Plot\"}},\"id\":\"d6440633-d431-46d8-b45e-ee8cef3e2e09\",\"type\":\"PanTool\"},{\"attributes\":{\"line_alpha\":{\"value\":0.1},\"line_color\":{\"value\":\"#1f77b4\"},\"line_width\":{\"value\":2},\"x\":{\"field\":\"x\"},\"y\":{\"field\":\"y\"}},\"id\":\"fe88f261-6820-4a7b-a3e9-3df9c7ade9a9\",\"type\":\"Line\"},{\"attributes\":{\"callback\":null,\"column_names\":[\"y\",\"x\"],\"data\":{\"x\":[1.1,1.3,1.5,2.0,2.2,2.9,3.0,3.2,3.2,3.7,3.9,4.0,4.0,4.1,4.5,4.9,5.1,5.3,5.9,6.0,6.8,7.1,7.9,8.2,8.7,9.0,9.5,9.6,10.3,10.5],\"y\":[36187.158752269286,38077.151216560305,39967.14368085132,44692.12484157886,46582.11730586988,53197.09093088843,54142.08716303394,56032.07962732495,56032.07962732495,60757.06078805249,62647.0532523435,63592.04948448901,63592.04948448901,64537.045716634515,68317.03064521655,72097.01557379859,73987.0080380896,75877.00050238062,81546.97789525366,82491.97412739917,90051.94398456323,92886.93268099974,100446.90253816382,103281.89123460033,108006.87239532787,110841.8610917644,115566.84225249194,116511.83848463744,123126.812109656,125016.80457394701]}},\"id\":\"8ff465fe-1153-4273-9b79-c756d415c0e5\",\"type\":\"ColumnDataSource\"},{\"attributes\":{\"data_source\":{\"id\":\"c62619ca-f50b-4c99-9ada-f6a7b3265743\",\"type\":\"ColumnDataSource\"},\"glyph\":{\"id\":\"7feef622-629b-4efe-92c0-ad4333745933\",\"type\":\"Circle\"},\"hover_glyph\":null,\"nonselection_glyph\":{\"id\":\"87349aa4-d942-4ddf-9b93-935f8d617cb0\",\"type\":\"Circle\"},\"selection_glyph\":null},\"id\":\"df78bcda-1e26-4b78-abbd-3197e331f250\",\"type\":\"GlyphRenderer\"},{\"attributes\":{\"bottom_units\":\"screen\",\"fill_alpha\":{\"value\":0.5},\"fill_color\":{\"value\":\"lightgrey\"},\"left_units\":\"screen\",\"level\":\"overlay\",\"line_alpha\":{\"value\":1.0},\"line_color\":{\"value\":\"black\"},\"line_dash\":[4,4],\"line_width\":{\"value\":2},\"plot\":null,\"render_mode\":\"css\",\"right_units\":\"screen\",\"top_units\":\"screen\"},\"id\":\"efcf64af-e912-4305-8df2-26084f64eeef\",\"type\":\"BoxAnnotation\"},{\"attributes\":{\"dimension\":1,\"plot\":{\"id\":\"a3f333fc-73dc-4f4c-b03f-f3c3752759ac\",\"subtype\":\"Figure\",\"type\":\"Plot\"},\"ticker\":{\"id\":\"664919d7-2a2a-44e4-8142-68779ced8373\",\"type\":\"BasicTicker\"}},\"id\":\"c1fea62e-2968-4448-bf12-c229d8c60462\",\"type\":\"Grid\"}],\"root_ids\":[\"a3f333fc-73dc-4f4c-b03f-f3c3752759ac\"]},\"title\":\"Bokeh Application\",\"version\":\"0.12.0\"}};\n",
       "            var render_items = [{\"docid\":\"647408b3-2faf-40ee-85b1-8e9862e4dc5c\",\"elementid\":\"540e31e3-1a87-4cdd-845c-a244e083511e\",\"modelid\":\"a3f333fc-73dc-4f4c-b03f-f3c3752759ac\",\"notebook_comms_target\":\"8ea27023-fc27-497c-818f-9854b9ae123a\"}];\n",
       "            \n",
       "            Bokeh.embed.embed_items(docs_json, render_items);\n",
       "        });\n",
       "      },\n",
       "      function(Bokeh) {\n",
       "      }\n",
       "    ];\n",
       "  \n",
       "    function run_inline_js() {\n",
       "      for (var i = 0; i < inline_js.length; i++) {\n",
       "        inline_js[i](window.Bokeh);\n",
       "      }\n",
       "    }\n",
       "  \n",
       "    if (window._bokeh_is_loading === 0) {\n",
       "      console.log(\"Bokeh: BokehJS loaded, going straight to plotting\");\n",
       "      run_inline_js();\n",
       "    } else {\n",
       "      load_libs(js_urls, function() {\n",
       "        console.log(\"Bokeh: BokehJS plotting callback run at\", now());\n",
       "        run_inline_js();\n",
       "      });\n",
       "    }\n",
       "  }(this));\n",
       "</script>"
      ]
     },
     "metadata": {},
     "output_type": "display_data"
    },
    {
     "data": {
      "text/html": [
       "<p><code>&lt;Bokeh Notebook handle for <strong>In[7]</strong>&gt;</code></p>"
      ],
      "text/plain": [
       "<bokeh.io._CommsHandle at 0x1195cb5d0>"
      ]
     },
     "execution_count": 7,
     "metadata": {},
     "output_type": "execute_result"
    }
   ],
   "source": [
    "p = figure()\n",
    "# results.fittedvalues\n",
    "p.line(df.YearsExperience, y_hat, line_width=2)\n",
    "p.scatter(df.YearsExperience, df.Salary)\n",
    "p.left[0].formatter.use_scientific = False\n",
    "p.below[0].formatter.use_scientific = False\n",
    "show(p)"
   ]
  },
  {
   "cell_type": "code",
   "execution_count": null,
   "metadata": {
    "collapsed": true
   },
   "outputs": [],
   "source": []
  }
 ],
 "metadata": {
  "kernelspec": {
   "display_name": "Python [Root]",
   "language": "python",
   "name": "Python [Root]"
  },
  "language_info": {
   "codemirror_mode": {
    "name": "ipython",
    "version": 2
   },
   "file_extension": ".py",
   "mimetype": "text/x-python",
   "name": "python",
   "nbconvert_exporter": "python",
   "pygments_lexer": "ipython2",
   "version": "2.7.12"
  }
 },
 "nbformat": 4,
 "nbformat_minor": 0
}
